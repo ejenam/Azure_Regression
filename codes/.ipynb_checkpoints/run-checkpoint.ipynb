{
 "cells": [
  {
   "cell_type": "markdown",
   "id": "4bdc58f6",
   "metadata": {},
   "source": [
    "After creating the workspace, download the config.json file and save it in a folder relative to the path defined on the config_path to run"
   ]
  },
  {
   "cell_type": "code",
   "execution_count": 1,
   "id": "ddcd0826",
   "metadata": {},
   "outputs": [
    {
     "ename": "NameError",
     "evalue": "name 'credential' is not defined",
     "output_type": "error",
     "traceback": [
      "\u001b[0;31m---------------------------------------------------------------------------\u001b[0m",
      "\u001b[0;31mValidationException\u001b[0m                       Traceback (most recent call last)",
      "\u001b[0;32m/var/folders/73/y7kf04rj02xbdjnpf7k716yw0000gn/T/ipykernel_99270/1085648687.py\u001b[0m in \u001b[0;36m<module>\u001b[0;34m\u001b[0m\n\u001b[1;32m     11\u001b[0m \u001b[0;32mtry\u001b[0m\u001b[0;34m:\u001b[0m\u001b[0;34m\u001b[0m\u001b[0;34m\u001b[0m\u001b[0m\n\u001b[0;32m---> 12\u001b[0;31m     \u001b[0mml_client\u001b[0m \u001b[0;34m=\u001b[0m \u001b[0mMLClient\u001b[0m\u001b[0;34m.\u001b[0m\u001b[0mfrom_config\u001b[0m\u001b[0;34m(\u001b[0m\u001b[0mcredential\u001b[0m\u001b[0;34m=\u001b[0m\u001b[0mcredentials\u001b[0m\u001b[0;34m)\u001b[0m\u001b[0;34m\u001b[0m\u001b[0;34m\u001b[0m\u001b[0m\n\u001b[0m\u001b[1;32m     13\u001b[0m \u001b[0;32mexcept\u001b[0m \u001b[0mException\u001b[0m \u001b[0;32mas\u001b[0m \u001b[0mex\u001b[0m\u001b[0;34m:\u001b[0m\u001b[0;34m\u001b[0m\u001b[0;34m\u001b[0m\u001b[0m\n",
      "\u001b[0;32m~/opt/anaconda3/lib/python3.9/site-packages/azure/ai/ml/_ml_client.py\u001b[0m in \u001b[0;36mfrom_config\u001b[0;34m(cls, credential, path, file_name, **kwargs)\u001b[0m\n\u001b[1;32m    603\u001b[0m                 )\n\u001b[0;32m--> 604\u001b[0;31m                 raise ValidationException(\n\u001b[0m\u001b[1;32m    605\u001b[0m                     \u001b[0mmessage\u001b[0m\u001b[0;34m=\u001b[0m\u001b[0mmsg\u001b[0m\u001b[0;34m.\u001b[0m\u001b[0mformat\u001b[0m\u001b[0;34m(\u001b[0m\u001b[0mpath\u001b[0m\u001b[0;34m)\u001b[0m\u001b[0;34m,\u001b[0m\u001b[0;34m\u001b[0m\u001b[0;34m\u001b[0m\u001b[0m\n",
      "\u001b[0;31mValidationException\u001b[0m: We could not find config.json in: . or in its parent directories. Please provide the full path to the config file or ensure that config.json exists in the parent directories.",
      "\nDuring handling of the above exception, another exception occurred:\n",
      "\u001b[0;31mNameError\u001b[0m                                 Traceback (most recent call last)",
      "\u001b[0;32m/var/folders/73/y7kf04rj02xbdjnpf7k716yw0000gn/T/ipykernel_99270/1085648687.py\u001b[0m in \u001b[0;36m<module>\u001b[0;34m\u001b[0m\n\u001b[1;32m     31\u001b[0m         \u001b[0;32mwith\u001b[0m \u001b[0mopen\u001b[0m\u001b[0;34m(\u001b[0m\u001b[0mconfig_path\u001b[0m\u001b[0;34m,\u001b[0m \u001b[0;34m\"w\"\u001b[0m\u001b[0;34m)\u001b[0m \u001b[0;32mas\u001b[0m \u001b[0mfo\u001b[0m\u001b[0;34m:\u001b[0m\u001b[0;34m\u001b[0m\u001b[0;34m\u001b[0m\u001b[0m\n\u001b[1;32m     32\u001b[0m             \u001b[0mfo\u001b[0m\u001b[0;34m.\u001b[0m\u001b[0mwrite\u001b[0m\u001b[0;34m(\u001b[0m\u001b[0mjson\u001b[0m\u001b[0;34m.\u001b[0m\u001b[0mdumps\u001b[0m\u001b[0;34m(\u001b[0m\u001b[0mclient_config\u001b[0m\u001b[0;34m)\u001b[0m\u001b[0;34m)\u001b[0m\u001b[0;34m\u001b[0m\u001b[0;34m\u001b[0m\u001b[0m\n\u001b[0;32m---> 33\u001b[0;31m         \u001b[0mml_client\u001b[0m \u001b[0;34m=\u001b[0m \u001b[0mMLClient\u001b[0m\u001b[0;34m.\u001b[0m\u001b[0mfrom_config\u001b[0m\u001b[0;34m(\u001b[0m\u001b[0mcredential\u001b[0m\u001b[0;34m=\u001b[0m\u001b[0mcredential\u001b[0m\u001b[0;34m,\u001b[0m \u001b[0mpath\u001b[0m\u001b[0;34m=\u001b[0m\u001b[0mconfig_path\u001b[0m\u001b[0;34m)\u001b[0m\u001b[0;34m\u001b[0m\u001b[0;34m\u001b[0m\u001b[0m\n\u001b[0m\u001b[1;32m     34\u001b[0m \u001b[0mprint\u001b[0m\u001b[0;34m(\u001b[0m\u001b[0mml_client\u001b[0m\u001b[0;34m)\u001b[0m\u001b[0;34m\u001b[0m\u001b[0;34m\u001b[0m\u001b[0m\n\u001b[1;32m     35\u001b[0m \u001b[0;34m\u001b[0m\u001b[0m\n",
      "\u001b[0;31mNameError\u001b[0m: name 'credential' is not defined"
     ]
    }
   ],
   "source": [
    "from azure.identity import AzureCliCredential\n",
    "from azure.identity import DefaultAzureCredential\n",
    "from azure.keyvault.secrets import SecretClient\n",
    "#import mlflow\n",
    "import argparse\n",
    "import pandas as pd\n",
    "from azure.ai.ml import MLClient\n",
    "\n",
    "credentials = AzureCliCredential(tenant_id='79fa5f3d-6f5b-4abe-a5bc-25abcb328320')\n",
    "\n",
    "try:\n",
    "    ml_client = MLClient.from_config(credential=credentials)\n",
    "except Exception as ex:\n",
    "    # NOTE: Update following workspace information if not correctly configure before\n",
    "    client_config = {\n",
    "        \"subscription_id\": \"a8b0cced-98ab-4669-bf6a-a77f4c102009\",\n",
    "        \"resource_group\": \"MLops_resource\",\n",
    "        \"workspace_name\": \"MLops_workspaces\",\n",
    "    }\n",
    "\n",
    "    if client_config[\"subscription_id\"].startswith(\"<\"):\n",
    "        print(\n",
    "            \"please update your <SUBSCRIPTION_ID> <RESOURCE_GROUP> <AML_WORKSPACE_NAME> in notebook cell\"\n",
    "        )\n",
    "        raise ex\n",
    "    else:  # write and reload from config file\n",
    "        import json, os\n",
    "\n",
    "        config_path = \"../mlproject/train/config.json\"\n",
    "        os.makedirs(os.path.dirname(config_path), exist_ok=True)\n",
    "        with open(config_path, \"w\") as fo:\n",
    "            fo.write(json.dumps(client_config))\n",
    "        ml_client = MLClient.from_config(credential=credential, path=config_path)\n",
    "print(ml_client)\n",
    "\n",
    "from azure.ai.ml.entities import AmlCompute\n",
    "\n",
    "# specify aml compute name.\n",
    "cpu_compute_target = \"cpu-cluster\"\n",
    "\n",
    "try:\n",
    "    ml_client.compute.get(cpu_compute_target)\n",
    "except Exception:\n",
    "    print(\"Creating a new cpu compute target...\")\n",
    "    compute = AmlCompute(\n",
    "        name=cpu_compute_target, size=\"STANDARD_E16S_V3\", min_instances=0, max_instances=4\n",
    "    )\n",
    "    ml_client.compute.begin_create_or_update(compute).result()\n",
    "    "
   ]
  },
  {
   "cell_type": "code",
   "execution_count": null,
   "id": "93ce3d66",
   "metadata": {},
   "outputs": [],
   "source": [
    "Standard_E16s_v3"
   ]
  },
  {
   "cell_type": "code",
   "execution_count": null,
   "id": "8a291e19",
   "metadata": {},
   "outputs": [],
   "source": [
    "import os\n",
    "\n",
    "# create a folder for the script files\n",
    "script_folder = 'src'\n",
    "os.makedirs(script_folder, exist_ok=True)\n",
    "print(script_folder, 'folder created')"
   ]
  },
  {
   "cell_type": "code",
   "execution_count": 2,
   "id": "89d30374",
   "metadata": {},
   "outputs": [
    {
     "name": "stdout",
     "output_type": "stream",
     "text": [
      "Writing $script_folder/prep.py\n"
     ]
    },
    {
     "ename": "FileNotFoundError",
     "evalue": "[Errno 2] No such file or directory: '$script_folder/prep.py'",
     "output_type": "error",
     "traceback": [
      "\u001b[0;31m---------------------------------------------------------------------------\u001b[0m",
      "\u001b[0;31mFileNotFoundError\u001b[0m                         Traceback (most recent call last)",
      "\u001b[0;32m/var/folders/73/y7kf04rj02xbdjnpf7k716yw0000gn/T/ipykernel_99270/3792930112.py\u001b[0m in \u001b[0;36m<module>\u001b[0;34m\u001b[0m\n\u001b[0;32m----> 1\u001b[0;31m \u001b[0mget_ipython\u001b[0m\u001b[0;34m(\u001b[0m\u001b[0;34m)\u001b[0m\u001b[0;34m.\u001b[0m\u001b[0mrun_cell_magic\u001b[0m\u001b[0;34m(\u001b[0m\u001b[0;34m'writefile'\u001b[0m\u001b[0;34m,\u001b[0m \u001b[0;34m'$script_folder/prep.py'\u001b[0m\u001b[0;34m,\u001b[0m \u001b[0;34m'\"\"\"\\nPrepares raw data and provides training, validation and test datasets\\n\"\"\"\\n\\nimport argparse\\n\\nfrom pathlib import Path\\nimport os\\nimport numpy as np\\nimport pandas as pd\\n\\nimport mlflow\\n\\nTARGET_COL = \"cost\"\\n\\nNUMERIC_COLS = [\\n    \"distance\", \"dropoff_latitude\", \"dropoff_longitude\", \"passengers\", \"pickup_latitude\",\\n    \"pickup_longitude\", \"pickup_weekday\", \"pickup_month\", \"pickup_monthday\", \"pickup_hour\",\\n    \"pickup_minute\", \"pickup_second\", \"dropoff_weekday\", \"dropoff_month\", \"dropoff_monthday\",\\n    \"dropoff_hour\", \"dropoff_minute\", \"dropoff_second\"\\n]\\n\\nCAT_NOM_COLS = [\\n    \"store_forward\", \"vendor\"\\n]\\n\\nCAT_ORD_COLS = [\\n]\\n\\ndef parse_args():\\n    \\'\\'\\'Parse input arguments\\'\\'\\'\\n\\n    parser = argparse.ArgumentParser(\"prep\")\\n    parser.add_argument(\"--raw_data\", type=str, help=\"Path to raw data\")\\n    parser.add_argument(\"--train_data\", type=str, help=\"Path to train dataset\")\\n    parser.add_argument(\"--val_data\", type=str, help=\"Path to test dataset\")\\n    parser.add_argument(\"--test_data\", type=str, help=\"Path to test dataset\")\\n    \\n    #parser.add_argument(\"--enable_monitoring\", type=str, help=\"enable logging to ADX\")\\n    #parser.add_argument(\"--table_name\", type=str, default=\"mlmonitoring\", help=\"Table name in ADX for logging\")\\n    \\n    args = parser.parse_args()\\n\\n    return args\\n\\n#def log_training_data(df, table_name):\\n#    from obs.collector import Online_Collector\\n#    collector = Online_Collector(table_name)\\n#    collector.batch_collect(df)\\n\\ndef main(args):\\n    \\'\\'\\'Read, split, and save datasets\\'\\'\\'\\n\\n    # ------------ Reading Data ------------ #\\n    # -------------------------------------- #\\n\\n    data = pd.read_csv((Path(args.raw_data)))\\n    data = data[NUMERIC_COLS + CAT_NOM_COLS + CAT_ORD_COLS + [TARGET_COL]]\\n\\n    # ------------- Split Data ------------- #\\n    # -------------------------------------- #\\n\\n    # Split data into train, val and test datasets\\n\\n    random_data = np.random.rand(len(data))\\n\\n    msk_train = random_data < 0.7\\n    msk_val = (random_data >= 0.7) & (random_data < 0.85)\\n    msk_test = random_data >= 0.85\\n\\n    train = data[msk_train]\\n    val = data[msk_val]\\n    test = data[msk_test]\\n\\n    mlflow.log_metric(\\'train size\\', train.shape[0])\\n    mlflow.log_metric(\\'val size\\', val.shape[0])\\n    mlflow.log_metric(\\'test size\\', test.shape[0])\\n\\n    train.to_csv((Path(args.train_data) / \"train.csv\"), index=False)\\n    val.to_csv((Path(args.val_data) / \"val.csv\"), index=False)\\n    test.to_csv((Path(args.test_data) / \"test.csv\"), index=False)\\n\\n    #if (args.enable_monitoring.lower == \\'true\\' or args.enable_monitoring == \\'1\\' or args.enable_monitoring.lower == \\'yes\\'):\\n    #    log_training_data(data, args.table_name)\\n\\n\\nif __name__ == \"__main__\":\\n\\n    mlflow.start_run()\\n\\n    # ---------- Parse Arguments ----------- #\\n    # -------------------------------------- #\\n\\n    args = parse_args()\\n\\n    lines = [\\n        f\"Raw data path: {args.raw_data}\",\\n        f\"Train dataset output path: {args.train_data}\",\\n        f\"Val dataset output path: {args.val_data}\",\\n        f\"Test dataset path: {args.test_data}\",\\n\\n    ]\\n\\n    for line in lines:\\n        print(line)\\n    \\n    main(args)\\n\\n    mlflow.end_run()\\n'\u001b[0m\u001b[0;34m)\u001b[0m\u001b[0;34m\u001b[0m\u001b[0;34m\u001b[0m\u001b[0m\n\u001b[0m",
      "\u001b[0;32m~/opt/anaconda3/lib/python3.9/site-packages/IPython/core/interactiveshell.py\u001b[0m in \u001b[0;36mrun_cell_magic\u001b[0;34m(self, magic_name, line, cell)\u001b[0m\n\u001b[1;32m   2404\u001b[0m             \u001b[0;32mwith\u001b[0m \u001b[0mself\u001b[0m\u001b[0;34m.\u001b[0m\u001b[0mbuiltin_trap\u001b[0m\u001b[0;34m:\u001b[0m\u001b[0;34m\u001b[0m\u001b[0;34m\u001b[0m\u001b[0m\n\u001b[1;32m   2405\u001b[0m                 \u001b[0margs\u001b[0m \u001b[0;34m=\u001b[0m \u001b[0;34m(\u001b[0m\u001b[0mmagic_arg_s\u001b[0m\u001b[0;34m,\u001b[0m \u001b[0mcell\u001b[0m\u001b[0;34m)\u001b[0m\u001b[0;34m\u001b[0m\u001b[0;34m\u001b[0m\u001b[0m\n\u001b[0;32m-> 2406\u001b[0;31m                 \u001b[0mresult\u001b[0m \u001b[0;34m=\u001b[0m \u001b[0mfn\u001b[0m\u001b[0;34m(\u001b[0m\u001b[0;34m*\u001b[0m\u001b[0margs\u001b[0m\u001b[0;34m,\u001b[0m \u001b[0;34m**\u001b[0m\u001b[0mkwargs\u001b[0m\u001b[0;34m)\u001b[0m\u001b[0;34m\u001b[0m\u001b[0;34m\u001b[0m\u001b[0m\n\u001b[0m\u001b[1;32m   2407\u001b[0m             \u001b[0;32mreturn\u001b[0m \u001b[0mresult\u001b[0m\u001b[0;34m\u001b[0m\u001b[0;34m\u001b[0m\u001b[0m\n\u001b[1;32m   2408\u001b[0m \u001b[0;34m\u001b[0m\u001b[0m\n",
      "\u001b[0;32m~/opt/anaconda3/lib/python3.9/site-packages/decorator.py\u001b[0m in \u001b[0;36mfun\u001b[0;34m(*args, **kw)\u001b[0m\n\u001b[1;32m    230\u001b[0m             \u001b[0;32mif\u001b[0m \u001b[0;32mnot\u001b[0m \u001b[0mkwsyntax\u001b[0m\u001b[0;34m:\u001b[0m\u001b[0;34m\u001b[0m\u001b[0;34m\u001b[0m\u001b[0m\n\u001b[1;32m    231\u001b[0m                 \u001b[0margs\u001b[0m\u001b[0;34m,\u001b[0m \u001b[0mkw\u001b[0m \u001b[0;34m=\u001b[0m \u001b[0mfix\u001b[0m\u001b[0;34m(\u001b[0m\u001b[0margs\u001b[0m\u001b[0;34m,\u001b[0m \u001b[0mkw\u001b[0m\u001b[0;34m,\u001b[0m \u001b[0msig\u001b[0m\u001b[0;34m)\u001b[0m\u001b[0;34m\u001b[0m\u001b[0;34m\u001b[0m\u001b[0m\n\u001b[0;32m--> 232\u001b[0;31m             \u001b[0;32mreturn\u001b[0m \u001b[0mcaller\u001b[0m\u001b[0;34m(\u001b[0m\u001b[0mfunc\u001b[0m\u001b[0;34m,\u001b[0m \u001b[0;34m*\u001b[0m\u001b[0;34m(\u001b[0m\u001b[0mextras\u001b[0m \u001b[0;34m+\u001b[0m \u001b[0margs\u001b[0m\u001b[0;34m)\u001b[0m\u001b[0;34m,\u001b[0m \u001b[0;34m**\u001b[0m\u001b[0mkw\u001b[0m\u001b[0;34m)\u001b[0m\u001b[0;34m\u001b[0m\u001b[0;34m\u001b[0m\u001b[0m\n\u001b[0m\u001b[1;32m    233\u001b[0m     \u001b[0mfun\u001b[0m\u001b[0;34m.\u001b[0m\u001b[0m__name__\u001b[0m \u001b[0;34m=\u001b[0m \u001b[0mfunc\u001b[0m\u001b[0;34m.\u001b[0m\u001b[0m__name__\u001b[0m\u001b[0;34m\u001b[0m\u001b[0;34m\u001b[0m\u001b[0m\n\u001b[1;32m    234\u001b[0m     \u001b[0mfun\u001b[0m\u001b[0;34m.\u001b[0m\u001b[0m__doc__\u001b[0m \u001b[0;34m=\u001b[0m \u001b[0mfunc\u001b[0m\u001b[0;34m.\u001b[0m\u001b[0m__doc__\u001b[0m\u001b[0;34m\u001b[0m\u001b[0;34m\u001b[0m\u001b[0m\n",
      "\u001b[0;32m~/opt/anaconda3/lib/python3.9/site-packages/IPython/core/magic.py\u001b[0m in \u001b[0;36m<lambda>\u001b[0;34m(f, *a, **k)\u001b[0m\n\u001b[1;32m    185\u001b[0m     \u001b[0;31m# but it's overkill for just that one bit of state.\u001b[0m\u001b[0;34m\u001b[0m\u001b[0;34m\u001b[0m\u001b[0m\n\u001b[1;32m    186\u001b[0m     \u001b[0;32mdef\u001b[0m \u001b[0mmagic_deco\u001b[0m\u001b[0;34m(\u001b[0m\u001b[0marg\u001b[0m\u001b[0;34m)\u001b[0m\u001b[0;34m:\u001b[0m\u001b[0;34m\u001b[0m\u001b[0;34m\u001b[0m\u001b[0m\n\u001b[0;32m--> 187\u001b[0;31m         \u001b[0mcall\u001b[0m \u001b[0;34m=\u001b[0m \u001b[0;32mlambda\u001b[0m \u001b[0mf\u001b[0m\u001b[0;34m,\u001b[0m \u001b[0;34m*\u001b[0m\u001b[0ma\u001b[0m\u001b[0;34m,\u001b[0m \u001b[0;34m**\u001b[0m\u001b[0mk\u001b[0m\u001b[0;34m:\u001b[0m \u001b[0mf\u001b[0m\u001b[0;34m(\u001b[0m\u001b[0;34m*\u001b[0m\u001b[0ma\u001b[0m\u001b[0;34m,\u001b[0m \u001b[0;34m**\u001b[0m\u001b[0mk\u001b[0m\u001b[0;34m)\u001b[0m\u001b[0;34m\u001b[0m\u001b[0;34m\u001b[0m\u001b[0m\n\u001b[0m\u001b[1;32m    188\u001b[0m \u001b[0;34m\u001b[0m\u001b[0m\n\u001b[1;32m    189\u001b[0m         \u001b[0;32mif\u001b[0m \u001b[0mcallable\u001b[0m\u001b[0;34m(\u001b[0m\u001b[0marg\u001b[0m\u001b[0;34m)\u001b[0m\u001b[0;34m:\u001b[0m\u001b[0;34m\u001b[0m\u001b[0;34m\u001b[0m\u001b[0m\n",
      "\u001b[0;32m~/opt/anaconda3/lib/python3.9/site-packages/IPython/core/magics/osm.py\u001b[0m in \u001b[0;36mwritefile\u001b[0;34m(self, line, cell)\u001b[0m\n\u001b[1;32m    854\u001b[0m \u001b[0;34m\u001b[0m\u001b[0m\n\u001b[1;32m    855\u001b[0m         \u001b[0mmode\u001b[0m \u001b[0;34m=\u001b[0m \u001b[0;34m'a'\u001b[0m \u001b[0;32mif\u001b[0m \u001b[0margs\u001b[0m\u001b[0;34m.\u001b[0m\u001b[0mappend\u001b[0m \u001b[0;32melse\u001b[0m \u001b[0;34m'w'\u001b[0m\u001b[0;34m\u001b[0m\u001b[0;34m\u001b[0m\u001b[0m\n\u001b[0;32m--> 856\u001b[0;31m         \u001b[0;32mwith\u001b[0m \u001b[0mio\u001b[0m\u001b[0;34m.\u001b[0m\u001b[0mopen\u001b[0m\u001b[0;34m(\u001b[0m\u001b[0mfilename\u001b[0m\u001b[0;34m,\u001b[0m \u001b[0mmode\u001b[0m\u001b[0;34m,\u001b[0m \u001b[0mencoding\u001b[0m\u001b[0;34m=\u001b[0m\u001b[0;34m'utf-8'\u001b[0m\u001b[0;34m)\u001b[0m \u001b[0;32mas\u001b[0m \u001b[0mf\u001b[0m\u001b[0;34m:\u001b[0m\u001b[0;34m\u001b[0m\u001b[0;34m\u001b[0m\u001b[0m\n\u001b[0m\u001b[1;32m    857\u001b[0m             \u001b[0mf\u001b[0m\u001b[0;34m.\u001b[0m\u001b[0mwrite\u001b[0m\u001b[0;34m(\u001b[0m\u001b[0mcell\u001b[0m\u001b[0;34m)\u001b[0m\u001b[0;34m\u001b[0m\u001b[0;34m\u001b[0m\u001b[0m\n",
      "\u001b[0;31mFileNotFoundError\u001b[0m: [Errno 2] No such file or directory: '$script_folder/prep.py'"
     ]
    }
   ],
   "source": [
    "%%writefile $script_folder/prep.py\n",
    "\"\"\"\n",
    "Prepares raw data and provides training, validation and test datasets\n",
    "\"\"\"\n",
    "\n",
    "import argparse\n",
    "\n",
    "from pathlib import Path\n",
    "import os\n",
    "import numpy as np\n",
    "import pandas as pd\n",
    "\n",
    "import mlflow\n",
    "\n",
    "TARGET_COL = \"cost\"\n",
    "\n",
    "NUMERIC_COLS = [\n",
    "    \"distance\", \"dropoff_latitude\", \"dropoff_longitude\", \"passengers\", \"pickup_latitude\",\n",
    "    \"pickup_longitude\", \"pickup_weekday\", \"pickup_month\", \"pickup_monthday\", \"pickup_hour\",\n",
    "    \"pickup_minute\", \"pickup_second\", \"dropoff_weekday\", \"dropoff_month\", \"dropoff_monthday\",\n",
    "    \"dropoff_hour\", \"dropoff_minute\", \"dropoff_second\"\n",
    "]\n",
    "\n",
    "CAT_NOM_COLS = [\n",
    "    \"store_forward\", \"vendor\"\n",
    "]\n",
    "\n",
    "CAT_ORD_COLS = [\n",
    "]\n",
    "\n",
    "def parse_args():\n",
    "    '''Parse input arguments'''\n",
    "\n",
    "    parser = argparse.ArgumentParser(\"prep\")\n",
    "    parser.add_argument(\"--raw_data\", type=str, help=\"Path to raw data\")\n",
    "    parser.add_argument(\"--train_data\", type=str, help=\"Path to train dataset\")\n",
    "    parser.add_argument(\"--val_data\", type=str, help=\"Path to test dataset\")\n",
    "    parser.add_argument(\"--test_data\", type=str, help=\"Path to test dataset\")\n",
    "    \n",
    "    #parser.add_argument(\"--enable_monitoring\", type=str, help=\"enable logging to ADX\")\n",
    "    #parser.add_argument(\"--table_name\", type=str, default=\"mlmonitoring\", help=\"Table name in ADX for logging\")\n",
    "    \n",
    "    args = parser.parse_args()\n",
    "\n",
    "    return args\n",
    "\n",
    "#def log_training_data(df, table_name):\n",
    "#    from obs.collector import Online_Collector\n",
    "#    collector = Online_Collector(table_name)\n",
    "#    collector.batch_collect(df)\n",
    "\n",
    "def main(args):\n",
    "    '''Read, split, and save datasets'''\n",
    "\n",
    "    # ------------ Reading Data ------------ #\n",
    "    # -------------------------------------- #\n",
    "\n",
    "    data = pd.read_csv((Path(args.raw_data)))\n",
    "    data = data[NUMERIC_COLS + CAT_NOM_COLS + CAT_ORD_COLS + [TARGET_COL]]\n",
    "\n",
    "    # ------------- Split Data ------------- #\n",
    "    # -------------------------------------- #\n",
    "\n",
    "    # Split data into train, val and test datasets\n",
    "\n",
    "    random_data = np.random.rand(len(data))\n",
    "\n",
    "    msk_train = random_data < 0.7\n",
    "    msk_val = (random_data >= 0.7) & (random_data < 0.85)\n",
    "    msk_test = random_data >= 0.85\n",
    "\n",
    "    train = data[msk_train]\n",
    "    val = data[msk_val]\n",
    "    test = data[msk_test]\n",
    "\n",
    "    mlflow.log_metric('train size', train.shape[0])\n",
    "    mlflow.log_metric('val size', val.shape[0])\n",
    "    mlflow.log_metric('test size', test.shape[0])\n",
    "\n",
    "    train.to_csv((Path(args.train_data) / \"train.csv\"), index=False)\n",
    "    val.to_csv((Path(args.val_data) / \"val.csv\"), index=False)\n",
    "    test.to_csv((Path(args.test_data) / \"test.csv\"), index=False)\n",
    "\n",
    "    #if (args.enable_monitoring.lower == 'true' or args.enable_monitoring == '1' or args.enable_monitoring.lower == 'yes'):\n",
    "    #    log_training_data(data, args.table_name)\n",
    "\n",
    "\n",
    "if __name__ == \"__main__\":\n",
    "\n",
    "    mlflow.start_run()\n",
    "\n",
    "    # ---------- Parse Arguments ----------- #\n",
    "    # -------------------------------------- #\n",
    "\n",
    "    args = parse_args()\n",
    "\n",
    "    lines = [\n",
    "        f\"Raw data path: {args.raw_data}\",\n",
    "        f\"Train dataset output path: {args.train_data}\",\n",
    "        f\"Val dataset output path: {args.val_data}\",\n",
    "        f\"Test dataset path: {args.test_data}\",\n",
    "\n",
    "    ]\n",
    "\n",
    "    for line in lines:\n",
    "        print(line)\n",
    "    \n",
    "    main(args)\n",
    "\n",
    "    mlflow.end_run()"
   ]
  },
  {
   "cell_type": "code",
   "execution_count": 227,
   "id": "24fe6b70",
   "metadata": {},
   "outputs": [],
   "source": [
    "from azure.ai.ml import command\n",
    "from azure.ai.ml import Input, Output\n",
    "\n",
    "prep_data = command(\n",
    "    inputs=dict(\n",
    "        prep_input=Input(\n",
    "            type=\"uri_file\",\n",
    "            path=\"/Users/ejenamvictor/Desktop/mlops_classicRegression/data/taxi-data.csv\",\n",
    "        )\n",
    "    ),\n",
    "    outputs=dict(\n",
    "        train_data=Output(type=\"uri_folder\",\n",
    "                          path='azureml://subscriptions/a8b0cced-98ab-4669-bf6a-a77f4c102009/resourcegroups/MLops_practice/workspaces/mlops_workspaces/datastores/workspaceblobstore/paths/LocalUpload/9292ec840b5d1db6306dba71da69ab7f/train_data',\n",
    "                          mode=\"rw_mount\"),\n",
    "        val_data=Output(type=\"uri_folder\",\n",
    "                        path='azureml://subscriptions/a8b0cced-98ab-4669-bf6a-a77f4c102009/resourcegroups/MLops_practice/workspaces/mlops_workspaces/datastores/workspaceblobstore/paths/LocalUpload/9292ec840b5d1db6306dba71da69ab7f/val_data',\n",
    "                        mode=\"rw_mount\"),\n",
    "        test_data=Output(type=\"uri_folder\",\n",
    "                         path='azureml://subscriptions/a8b0cced-98ab-4669-bf6a-a77f4c102009/resourcegroups/MLops_practice/workspaces/mlops_workspaces/datastores/workspaceblobstore/paths/LocalUpload/9292ec840b5d1db6306dba71da69ab7f/test_data',\n",
    "                         mode=\"rw_mount\"),\n",
    "    ),\n",
    "    code=\"./src/\",  # location of source code\n",
    "    command=\"python prep.py --raw_data ${{inputs.prep_input}} --train_data ${{outputs.train_data}} --val_data ${{outputs.val_data}} --test_data ${{outputs.test_data}}\",\n",
    "    environment=\"AzureML-sklearn-0.24-ubuntu18.04-py37-cpu@latest\",\n",
    "    compute=\"cpu-cluster\", # delete this line to use serverless compute\n",
    "    display_name=\"preprocess-autolog\",\n",
    "    experiment_name=\"pre_process\"\n",
    ")\n"
   ]
  },
  {
   "cell_type": "code",
   "execution_count": 228,
   "id": "b4a8bf9a",
   "metadata": {},
   "outputs": [
    {
     "name": "stderr",
     "output_type": "stream",
     "text": [
      "Uploading src (1.23 MBs): 100%|█████████| 1232056/1232056 [00:01<00:00, 1022827.16it/s]\n",
      "\n",
      "\n",
      "Uploading taxi-data.csv (< 1 MB): 0.00B [00:00, ?B/s] (< 1 MB): 100%|███████████| 1.21M/1.21M [00:01<00:00, 1.10MB/s] (< 1 MB): 100%|███████████| 1.21M/1.21M [00:01<00:00, 1.07MB/s]\n",
      "\n",
      "\n"
     ]
    },
    {
     "data": {
      "text/html": [
       "<table style=\"width:100%\"><tr><th>Experiment</th><th>Name</th><th>Type</th><th>Status</th><th>Details Page</th></tr><tr><td>pre_process</td><td>gifted_kumquat_j6p0stntcl</td><td>command</td><td>Starting</td><td><a href=\"https://ml.azure.com/runs/gifted_kumquat_j6p0stntcl?wsid=/subscriptions/a8b0cced-98ab-4669-bf6a-a77f4c102009/resourcegroups/MLops_resource/workspaces/MLops_workspaces&amp;tid=79fa5f3d-6f5b-4abe-a5bc-25abcb328320\" target=\"_blank\" rel=\"noopener\">Link to Azure Machine Learning studio</a></td></tr></table>"
      ],
      "text/plain": [
       "Command({'parameters': {}, 'init': False, 'name': 'gifted_kumquat_j6p0stntcl', 'type': 'command', 'status': 'Starting', 'log_files': None, 'description': None, 'tags': {}, 'properties': {'_azureml.ComputeTargetType': 'amlctrain', 'ContentSnapshotId': '6a454a73-8a91-4616-8ec0-20e13b7865d6'}, 'print_as_yaml': True, 'id': '/subscriptions/a8b0cced-98ab-4669-bf6a-a77f4c102009/resourceGroups/MLops_resource/providers/Microsoft.MachineLearningServices/workspaces/MLops_workspaces/jobs/gifted_kumquat_j6p0stntcl', 'Resource__source_path': None, 'base_path': '/Users/ejenamvictor/Desktop/mlproject/data-science/src/train', 'creation_context': <azure.ai.ml.entities._system_data.SystemData object at 0x7f80f91200d0>, 'serialize': <msrest.serialization.Serializer object at 0x7f80daff2100>, 'allowed_keys': {}, 'key_restriction': False, 'logger': <Logger attr_dict (WARNING)>, 'display_name': 'preprocess-autolog', 'experiment_name': 'pre_process', 'compute': 'cpu-cluster', 'services': {'Tracking': {'endpoint': 'azureml://uksouth.api.azureml.ms/mlflow/v1.0/subscriptions/a8b0cced-98ab-4669-bf6a-a77f4c102009/resourceGroups/MLops_resource/providers/Microsoft.MachineLearningServices/workspaces/MLops_workspaces?', 'type': 'Tracking'}, 'Studio': {'endpoint': 'https://ml.azure.com/runs/gifted_kumquat_j6p0stntcl?wsid=/subscriptions/a8b0cced-98ab-4669-bf6a-a77f4c102009/resourcegroups/MLops_resource/workspaces/MLops_workspaces&tid=79fa5f3d-6f5b-4abe-a5bc-25abcb328320', 'type': 'Studio'}}, 'comment': None, 'job_inputs': {'prep_input': {'type': 'uri_file', 'path': 'azureml://datastores/workspaceblobstore/paths/LocalUpload/9292ec840b5d1db6306dba71da69ab7f/taxi-data.csv', 'mode': 'ro_mount'}}, 'job_outputs': {'train_data': {'type': 'uri_folder', 'path': 'azureml://subscriptions/a8b0cced-98ab-4669-bf6a-a77f4c102009/resourcegroups/MLops_practice/workspaces/mlops_workspaces/datastores/workspaceblobstore/paths/LocalUpload/9292ec840b5d1db6306dba71da69ab7f/train_data', 'mode': 'rw_mount'}, 'val_data': {'type': 'uri_folder', 'path': 'azureml://subscriptions/a8b0cced-98ab-4669-bf6a-a77f4c102009/resourcegroups/MLops_practice/workspaces/mlops_workspaces/datastores/workspaceblobstore/paths/LocalUpload/9292ec840b5d1db6306dba71da69ab7f/val_data', 'mode': 'rw_mount'}, 'test_data': {'type': 'uri_folder', 'path': 'azureml://subscriptions/a8b0cced-98ab-4669-bf6a-a77f4c102009/resourcegroups/MLops_practice/workspaces/mlops_workspaces/datastores/workspaceblobstore/paths/LocalUpload/9292ec840b5d1db6306dba71da69ab7f/test_data', 'mode': 'rw_mount'}, 'default': {'type': 'uri_folder', 'path': 'azureml://datastores/workspaceartifactstore/ExperimentRun/dcid.gifted_kumquat_j6p0stntcl', 'mode': 'rw_mount'}}, 'inputs': {'prep_input': <azure.ai.ml.entities._job.pipeline._io.base.NodeInput object at 0x7f80daff28e0>}, 'outputs': {'train_data': <azure.ai.ml.entities._job.pipeline._io.base.NodeOutput object at 0x7f80daff2130>, 'val_data': <azure.ai.ml.entities._job.pipeline._io.base.NodeOutput object at 0x7f80daff25b0>, 'test_data': <azure.ai.ml.entities._job.pipeline._io.base.NodeOutput object at 0x7f80daff2340>, 'default': <azure.ai.ml.entities._job.pipeline._io.base.NodeOutput object at 0x7f80f8c06c70>}, 'component': CommandComponent({'intellectual_property': None, 'auto_increment_version': True, 'source': 'REMOTE.WORKSPACE.JOB', 'is_anonymous': False, 'auto_delete_setting': None, 'name': 'gifted_kumquat_j6p0stntcl', 'description': None, 'tags': {}, 'properties': {}, 'print_as_yaml': True, 'id': None, 'Resource__source_path': None, 'base_path': '/Users/ejenamvictor/Desktop/mlproject/data-science/src/train', 'creation_context': <azure.ai.ml.entities._system_data.SystemData object at 0x7f80f91200d0>, 'serialize': <msrest.serialization.Serializer object at 0x7f80daff2730>, 'command': 'python prep.py --raw_data ${{inputs.prep_input}} --train_data ${{outputs.train_data}} --val_data ${{outputs.val_data}} --test_data ${{outputs.test_data}}', 'code': '/subscriptions/a8b0cced-98ab-4669-bf6a-a77f4c102009/resourceGroups/MLops_resource/providers/Microsoft.MachineLearningServices/workspaces/MLops_workspaces/codes/feb353c4-f601-4479-9d32-269fcd9153df/versions/1', 'environment_variables': {}, 'environment': 'azureml:AzureML-sklearn-0.24-ubuntu18.04-py37-cpu@latest', 'distribution': None, 'resources': None, 'queue_settings': None, 'version': None, 'latest_version': None, 'schema': None, 'type': 'command', 'display_name': 'preprocess-autolog', 'is_deterministic': True, 'inputs': {'prep_input': {'type': 'uri_file', 'path': 'azureml://datastores/workspaceblobstore/paths/LocalUpload/9292ec840b5d1db6306dba71da69ab7f/taxi-data.csv', 'mode': 'ro_mount'}}, 'outputs': {'train_data': {'type': 'uri_folder', 'path': 'azureml://subscriptions/a8b0cced-98ab-4669-bf6a-a77f4c102009/resourcegroups/MLops_practice/workspaces/mlops_workspaces/datastores/workspaceblobstore/paths/LocalUpload/9292ec840b5d1db6306dba71da69ab7f/train_data', 'mode': 'rw_mount'}, 'val_data': {'type': 'uri_folder', 'path': 'azureml://subscriptions/a8b0cced-98ab-4669-bf6a-a77f4c102009/resourcegroups/MLops_practice/workspaces/mlops_workspaces/datastores/workspaceblobstore/paths/LocalUpload/9292ec840b5d1db6306dba71da69ab7f/val_data', 'mode': 'rw_mount'}, 'test_data': {'type': 'uri_folder', 'path': 'azureml://subscriptions/a8b0cced-98ab-4669-bf6a-a77f4c102009/resourcegroups/MLops_practice/workspaces/mlops_workspaces/datastores/workspaceblobstore/paths/LocalUpload/9292ec840b5d1db6306dba71da69ab7f/test_data', 'mode': 'rw_mount'}, 'default': {'type': 'uri_folder', 'path': 'azureml://datastores/workspaceartifactstore/ExperimentRun/dcid.gifted_kumquat_j6p0stntcl', 'mode': 'rw_mount'}}, 'yaml_str': None, 'other_parameter': {'status': 'Starting', 'parameters': {}}, 'additional_includes': []}), 'referenced_control_flow_node_instance_id': None, 'kwargs': {'services': {'Tracking': {'endpoint': 'azureml://uksouth.api.azureml.ms/mlflow/v1.0/subscriptions/a8b0cced-98ab-4669-bf6a-a77f4c102009/resourceGroups/MLops_resource/providers/Microsoft.MachineLearningServices/workspaces/MLops_workspaces?', 'type': 'Tracking'}, 'Studio': {'endpoint': 'https://ml.azure.com/runs/gifted_kumquat_j6p0stntcl?wsid=/subscriptions/a8b0cced-98ab-4669-bf6a-a77f4c102009/resourcegroups/MLops_resource/workspaces/MLops_workspaces&tid=79fa5f3d-6f5b-4abe-a5bc-25abcb328320', 'type': 'Studio'}}, 'status': 'Starting', 'creation_context': <azure.ai.ml.entities._system_data.SystemData object at 0x7f80f91200d0>}, 'instance_id': '1e815cb5-123f-4614-8929-d450b2c9cc37', 'source': 'BUILDER', 'validate_required_input_not_provided': True, 'limits': None, 'identity': None, 'distribution': None, 'environment_variables': {}, 'environment': 'azureml:AzureML-sklearn-0.24-ubuntu18.04-py37-cpu@latest', 'resources': {'instance_count': 1, 'shm_size': '2g'}, 'queue_settings': None, 'swept': False})"
      ]
     },
     "execution_count": 228,
     "metadata": {},
     "output_type": "execute_result"
    }
   ],
   "source": [
    "returned_job = ml_client.jobs.create_or_update(prep_data)\n",
    "returned_job"
   ]
  },
  {
   "cell_type": "code",
   "execution_count": 229,
   "id": "a781c3fc",
   "metadata": {},
   "outputs": [],
   "source": [
    "import os\n",
    "\n",
    "train_src_dir = \"./src/train\"\n",
    "os.makedirs(train_src_dir, exist_ok=True)"
   ]
  },
  {
   "cell_type": "code",
   "execution_count": 230,
   "id": "c57a2a3a",
   "metadata": {},
   "outputs": [
    {
     "name": "stdout",
     "output_type": "stream",
     "text": [
      "Overwriting ./src/train/train.py\n"
     ]
    }
   ],
   "source": [
    "%%writefile {train_src_dir}/train.py\n",
    "\n",
    "from matplotlib import pyplot as plt\n",
    "import numpy as np\n",
    "import argparse\n",
    "from sklearn.ensemble import RandomForestRegressor\n",
    "from sklearn.metrics import r2_score, mean_absolute_error, mean_squared_error\n",
    "import os\n",
    "import pandas as pd\n",
    "import mlflow\n",
    "import mlflow.sklearn\n",
    "\n",
    "def select_first_file(path):\n",
    "    \"\"\"Selects first file in folder, use under assumption there is only one file in folder\n",
    "    Args:\n",
    "        path (str): path to directory or file to choose\n",
    "    Returns:\n",
    "        str: full path of selected file\n",
    "    \"\"\"\n",
    "    files = os.listdir(path)\n",
    "    return os.path.join(path, files[0])\n",
    "\n",
    "\n",
    "# Start Logging\n",
    "mlflow.start_run()\n",
    "\n",
    "# enable autologging\n",
    "mlflow.sklearn.autolog()\n",
    "\n",
    "os.makedirs(\"./outputs\", exist_ok=True)\n",
    "\n",
    "TARGET_COL = \"cost\"\n",
    "\n",
    "NUMERIC_COLS = [\n",
    "    \"distance\", \"dropoff_latitude\", \"dropoff_longitude\", \"passengers\", \"pickup_latitude\",\n",
    "    \"pickup_longitude\", \"pickup_weekday\", \"pickup_month\", \"pickup_monthday\", \"pickup_hour\",\n",
    "    \"pickup_minute\", \"pickup_second\", \"dropoff_weekday\", \"dropoff_month\", \"dropoff_monthday\",\n",
    "    \"dropoff_hour\", \"dropoff_minute\", \"dropoff_second\"\n",
    "]\n",
    "\n",
    "CAT_NOM_COLS = [\n",
    "    \"store_forward\", \"vendor\"\n",
    "]\n",
    "\n",
    "CAT_ORD_COLS = [\n",
    "]\n",
    "    \n",
    "\n",
    "def main():\n",
    "    \"\"\"Main function of the script.\"\"\"\n",
    "    \n",
    "    \n",
    "    parser = argparse.ArgumentParser()\n",
    "\n",
    "    # add arguments\n",
    "    parser.add_argument(\"--training_data\", dest='training_data', type=str)\n",
    "    parser.add_argument(\"--n_estimators\", dest='n_estimators', type=int, default=500)\n",
    "    parser.add_argument(\"--max_depth\", dest='max_depth', type=int, default=1)\n",
    "    parser.add_argument('--max_features', type=str, default='auto',\n",
    "                        help='Number of features to consider at every split')\n",
    "    parser.add_argument(\"--min_samples_leaf\", dest='min_samples_leaf', type=int, default=4)\n",
    "    parser.add_argument(\"--min_samples_split\", dest='min_samples_split', type=int, default=5)\n",
    "    parser.add_argument(\"--registered_model_name\", type=str, help=\"model name\")\n",
    "    parser.add_argument(\"--model\", type=str, help=\"path to model file\")\n",
    "    # parse args\n",
    "    args = parser.parse_args()\n",
    "    \n",
    "    # paths are mounted as folder, therefore, we are selecting the file from folder\n",
    "    train_data = pd.read_csv(select_first_file(args.training_data))\n",
    "\n",
    "    \n",
    "    # Split the data into input(X) and output(y)\n",
    "    y_train = train_data[TARGET_COL]\n",
    "    X_train = train_data[NUMERIC_COLS + CAT_NOM_COLS + CAT_ORD_COLS]\n",
    "    \n",
    "    \n",
    "    # Train a Random Forest Regression Model with the training set\n",
    "    model = RandomForestRegressor(n_estimators = args.n_estimators,\n",
    "                                  max_depth = args.max_depth,\n",
    "                                  max_features = args.max_features,\n",
    "                                  min_samples_leaf = args.min_samples_leaf,\n",
    "                                  min_samples_split = args.min_samples_split,\n",
    "                                  random_state=0)\n",
    "    \n",
    "    \n",
    "    # log model hyperparameters\n",
    "    mlflow.log_param(\"model\", \"RandomForestRegressor\")\n",
    "    mlflow.log_param(\"n_estimators\", args.n_estimators)\n",
    "    mlflow.log_param(\"max_depth\", args.max_depth)\n",
    "    mlflow.log_param(\"max_features\", args.max_features)\n",
    "    mlflow.log_param(\"min_samples_leaf\", args.min_samples_leaf)\n",
    "    mlflow.log_param(\"min_samples_split\", args.min_samples_split)\n",
    "    \n",
    "\n",
    "    # Train model with the train set\n",
    "    model.fit(X_train, y_train)\n",
    "\n",
    "    # Predict using the Regression Model\n",
    "    yhat_train = model.predict(X_train)\n",
    "\n",
    "    # Evaluate Regression performance with the train set\n",
    "    r2 = r2_score(y_train, yhat_train)\n",
    "    mse = mean_squared_error(y_train, yhat_train)\n",
    "    rmse = np.sqrt(mse)\n",
    "    mae = mean_absolute_error(y_train, yhat_train)\n",
    "    \n",
    "    # log model performance metrics\n",
    "    mlflow.log_metric(\"train r2\", r2)\n",
    "    mlflow.log_metric(\"train mse\", mse)\n",
    "    mlflow.log_metric(\"train rmse\", rmse)\n",
    "    mlflow.log_metric(\"train mae\", mae)\n",
    "\n",
    "    # Visualize results\n",
    "    plt.scatter(y_train, yhat_train,  color='black')\n",
    "    plt.plot(y_train, y_train, color='blue', linewidth=3)\n",
    "    plt.xlabel(\"Real value\")\n",
    "    plt.ylabel(\"Predicted value\")\n",
    "    plt.savefig(\"regression_results.png\")\n",
    "    mlflow.log_artifact(\"regression_results.png\")\n",
    "    \n",
    "    # Registering the model to the workspace\n",
    "    print(\"Registering the model via MLFlow\")\n",
    "    mlflow.sklearn.log_model(\n",
    "        sk_model=model,\n",
    "        registered_model_name=args.registered_model_name,\n",
    "        artifact_path=args.registered_model_name,\n",
    "    )\n",
    "\n",
    "    # Saving the model to a file\n",
    "    mlflow.sklearn.save_model(\n",
    "        sk_model=model,\n",
    "        path=os.path.join(args.model, \"trained_model\"),\n",
    "    )\n",
    "    \n",
    "    # Stop Logging\n",
    "    mlflow.end_run()\n",
    "\n",
    "\n",
    "if __name__ == \"__main__\":\n",
    "    main()"
   ]
  },
  {
   "cell_type": "code",
   "execution_count": 233,
   "id": "cb0d0232",
   "metadata": {},
   "outputs": [],
   "source": [
    "from azure.ai.ml import command\n",
    "from azure.ai.ml import Input, Output\n",
    "\n",
    "train_data = command(\n",
    "    inputs={\n",
    "        \"train_input\":Input(\n",
    "            type=\"uri_folder\",\n",
    "            path=\"azureml://subscriptions/a8b0cced-98ab-4669-bf6a-a77f4c102009/resourcegroups/MLops_resource/workspaces/MLops_workspaces/datastores/workspaceblobstore/paths/LocalUpload/9292ec840b5d1db6306dba71da69ab7f/train_data/\",\n",
    "            #mode=\"rw_mount\",\n",
    "        ),\n",
    "        \"n_estimators\": 100,\n",
    "        \"max_depth\": 10,\n",
    "        \"max_features\": \"auto\",\n",
    "        \"min_samples_leaf\": 1,\n",
    "        \"min_samples_split\": 2,\n",
    "        \"registered_model_name\": \"RFregressor\"\n",
    "    },\n",
    "    outputs={\n",
    "        \"model_output\":Output(type=\"uri_folder\",\n",
    "                          path='azureml://subscriptions/a8b0cced-98ab-4669-bf6a-a77f4c102009/resourcegroups/MLops_resource/workspaces/MLops_workspaces/datastores/workspaceblobstore/paths/LocalUpload/9292ec840b5d1db6306dba71da69ab7f/model_folder',)\n",
    "                          },\n",
    "    code=\"./src/train/\",  # location of source code\n",
    "    command=\"python train.py --training_data ${{inputs.train_input}} --n_estimators ${{inputs.n_estimators}} --max_depth ${{inputs.max_depth}} --max_features ${{inputs.max_features}} --min_samples_leaf ${{inputs.min_samples_leaf}}\\\n",
    "    --min_samples_split ${{inputs.min_samples_split}} --registered_model_name ${{inputs.registered_model_name}} --model ${{outputs.model_output}} \", \n",
    "    environment=\"AzureML-sklearn-0.24-ubuntu18.04-py37-cpu@latest\",\n",
    "    compute=\"cpu-cluster\", # delete this line to use serverless compute\n",
    "    display_name=\"traininig-autolog\",\n",
    "    experiment_name=\"taxi-training\",\n",
    ")"
   ]
  },
  {
   "cell_type": "code",
   "execution_count": 234,
   "id": "fd0cee46",
   "metadata": {},
   "outputs": [
    {
     "data": {
      "text/html": [
       "<table style=\"width:100%\"><tr><th>Experiment</th><th>Name</th><th>Type</th><th>Status</th><th>Details Page</th></tr><tr><td>taxi-training</td><td>frank_ball_tv2mx09z8c</td><td>command</td><td>Starting</td><td><a href=\"https://ml.azure.com/runs/frank_ball_tv2mx09z8c?wsid=/subscriptions/a8b0cced-98ab-4669-bf6a-a77f4c102009/resourcegroups/MLops_resource/workspaces/MLops_workspaces&amp;tid=79fa5f3d-6f5b-4abe-a5bc-25abcb328320\" target=\"_blank\" rel=\"noopener\">Link to Azure Machine Learning studio</a></td></tr></table>"
      ],
      "text/plain": [
       "Command({'parameters': {}, 'init': False, 'name': 'frank_ball_tv2mx09z8c', 'type': 'command', 'status': 'Starting', 'log_files': None, 'description': None, 'tags': {}, 'properties': {'_azureml.ComputeTargetType': 'amlctrain', 'ContentSnapshotId': 'ee59b8a9-2f20-4b31-99bc-b2d07f005d8c'}, 'print_as_yaml': True, 'id': '/subscriptions/a8b0cced-98ab-4669-bf6a-a77f4c102009/resourceGroups/MLops_resource/providers/Microsoft.MachineLearningServices/workspaces/MLops_workspaces/jobs/frank_ball_tv2mx09z8c', 'Resource__source_path': None, 'base_path': '/Users/ejenamvictor/Desktop/mlproject/data-science/src/train', 'creation_context': <azure.ai.ml.entities._system_data.SystemData object at 0x7f80f914c6d0>, 'serialize': <msrest.serialization.Serializer object at 0x7f80f8df6280>, 'allowed_keys': {}, 'key_restriction': False, 'logger': <Logger attr_dict (WARNING)>, 'display_name': 'traininig-autolog', 'experiment_name': 'taxi-training', 'compute': 'cpu-cluster', 'services': {'Tracking': {'endpoint': 'azureml://uksouth.api.azureml.ms/mlflow/v1.0/subscriptions/a8b0cced-98ab-4669-bf6a-a77f4c102009/resourceGroups/MLops_resource/providers/Microsoft.MachineLearningServices/workspaces/MLops_workspaces?', 'type': 'Tracking'}, 'Studio': {'endpoint': 'https://ml.azure.com/runs/frank_ball_tv2mx09z8c?wsid=/subscriptions/a8b0cced-98ab-4669-bf6a-a77f4c102009/resourcegroups/MLops_resource/workspaces/MLops_workspaces&tid=79fa5f3d-6f5b-4abe-a5bc-25abcb328320', 'type': 'Studio'}}, 'comment': None, 'job_inputs': {'train_input': {'type': 'uri_folder', 'path': 'azureml://subscriptions/a8b0cced-98ab-4669-bf6a-a77f4c102009/resourcegroups/MLops_resource/workspaces/MLops_workspaces/datastores/workspaceblobstore/paths/LocalUpload/9292ec840b5d1db6306dba71da69ab7f/train_data/', 'mode': 'ro_mount'}, 'n_estimators': '100', 'max_depth': '10', 'max_features': 'auto', 'min_samples_leaf': '1', 'min_samples_split': '2', 'registered_model_name': 'RFregressor'}, 'job_outputs': {'model_output': {'type': 'uri_folder', 'path': 'azureml://subscriptions/a8b0cced-98ab-4669-bf6a-a77f4c102009/resourcegroups/MLops_resource/workspaces/MLops_workspaces/datastores/workspaceblobstore/paths/LocalUpload/9292ec840b5d1db6306dba71da69ab7f/model_folder', 'mode': 'rw_mount'}, 'default': {'type': 'uri_folder', 'path': 'azureml://datastores/workspaceartifactstore/ExperimentRun/dcid.frank_ball_tv2mx09z8c', 'mode': 'rw_mount'}}, 'inputs': {'train_input': <azure.ai.ml.entities._job.pipeline._io.base.NodeInput object at 0x7f80f8df60a0>, 'n_estimators': <azure.ai.ml.entities._job.pipeline._io.base.NodeInput object at 0x7f80f8df6a30>, 'max_depth': <azure.ai.ml.entities._job.pipeline._io.base.NodeInput object at 0x7f80f8df6430>, 'max_features': <azure.ai.ml.entities._job.pipeline._io.base.NodeInput object at 0x7f80f8df6490>, 'min_samples_leaf': <azure.ai.ml.entities._job.pipeline._io.base.NodeInput object at 0x7f80f8df6520>, 'min_samples_split': <azure.ai.ml.entities._job.pipeline._io.base.NodeInput object at 0x7f80f8df6580>, 'registered_model_name': <azure.ai.ml.entities._job.pipeline._io.base.NodeInput object at 0x7f80f8df6310>}, 'outputs': {'model_output': <azure.ai.ml.entities._job.pipeline._io.base.NodeOutput object at 0x7f80f8df64f0>, 'default': <azure.ai.ml.entities._job.pipeline._io.base.NodeOutput object at 0x7f80f8df6220>}, 'component': CommandComponent({'intellectual_property': None, 'auto_increment_version': True, 'source': 'REMOTE.WORKSPACE.JOB', 'is_anonymous': False, 'auto_delete_setting': None, 'name': 'frank_ball_tv2mx09z8c', 'description': None, 'tags': {}, 'properties': {}, 'print_as_yaml': True, 'id': None, 'Resource__source_path': None, 'base_path': '/Users/ejenamvictor/Desktop/mlproject/data-science/src/train', 'creation_context': <azure.ai.ml.entities._system_data.SystemData object at 0x7f80f914c6d0>, 'serialize': <msrest.serialization.Serializer object at 0x7f80f8df6040>, 'command': 'python train.py --training_data ${{inputs.train_input}} --n_estimators ${{inputs.n_estimators}} --max_depth ${{inputs.max_depth}} --max_features ${{inputs.max_features}} --min_samples_leaf ${{inputs.min_samples_leaf}}    --min_samples_split ${{inputs.min_samples_split}} --registered_model_name ${{inputs.registered_model_name}} --model ${{outputs.model_output}} ', 'code': '/subscriptions/a8b0cced-98ab-4669-bf6a-a77f4c102009/resourceGroups/MLops_resource/providers/Microsoft.MachineLearningServices/workspaces/MLops_workspaces/codes/e9fd0f0c-099c-47d3-aaff-d78e86941291/versions/1', 'environment_variables': {}, 'environment': 'azureml:AzureML-sklearn-0.24-ubuntu18.04-py37-cpu@latest', 'distribution': None, 'resources': None, 'queue_settings': None, 'version': None, 'latest_version': None, 'schema': None, 'type': 'command', 'display_name': 'traininig-autolog', 'is_deterministic': True, 'inputs': {'train_input': {'type': 'uri_folder', 'path': 'azureml://subscriptions/a8b0cced-98ab-4669-bf6a-a77f4c102009/resourcegroups/MLops_resource/workspaces/MLops_workspaces/datastores/workspaceblobstore/paths/LocalUpload/9292ec840b5d1db6306dba71da69ab7f/train_data/', 'mode': 'ro_mount'}, 'n_estimators': {'type': 'string', 'default': '100'}, 'max_depth': {'type': 'string', 'default': '10'}, 'max_features': {'type': 'string', 'default': 'auto'}, 'min_samples_leaf': {'type': 'string', 'default': '1'}, 'min_samples_split': {'type': 'string', 'default': '2'}, 'registered_model_name': {'type': 'string', 'default': 'RFregressor'}}, 'outputs': {'model_output': {'type': 'uri_folder', 'path': 'azureml://subscriptions/a8b0cced-98ab-4669-bf6a-a77f4c102009/resourcegroups/MLops_resource/workspaces/MLops_workspaces/datastores/workspaceblobstore/paths/LocalUpload/9292ec840b5d1db6306dba71da69ab7f/model_folder', 'mode': 'rw_mount'}, 'default': {'type': 'uri_folder', 'path': 'azureml://datastores/workspaceartifactstore/ExperimentRun/dcid.frank_ball_tv2mx09z8c', 'mode': 'rw_mount'}}, 'yaml_str': None, 'other_parameter': {'status': 'Starting', 'parameters': {}}, 'additional_includes': []}), 'referenced_control_flow_node_instance_id': None, 'kwargs': {'services': {'Tracking': {'endpoint': 'azureml://uksouth.api.azureml.ms/mlflow/v1.0/subscriptions/a8b0cced-98ab-4669-bf6a-a77f4c102009/resourceGroups/MLops_resource/providers/Microsoft.MachineLearningServices/workspaces/MLops_workspaces?', 'type': 'Tracking'}, 'Studio': {'endpoint': 'https://ml.azure.com/runs/frank_ball_tv2mx09z8c?wsid=/subscriptions/a8b0cced-98ab-4669-bf6a-a77f4c102009/resourcegroups/MLops_resource/workspaces/MLops_workspaces&tid=79fa5f3d-6f5b-4abe-a5bc-25abcb328320', 'type': 'Studio'}}, 'status': 'Starting', 'creation_context': <azure.ai.ml.entities._system_data.SystemData object at 0x7f80f914c6d0>}, 'instance_id': '75162212-3559-49ff-b6c0-e0e71e15baa7', 'source': 'BUILDER', 'validate_required_input_not_provided': True, 'limits': None, 'identity': None, 'distribution': None, 'environment_variables': {}, 'environment': 'azureml:AzureML-sklearn-0.24-ubuntu18.04-py37-cpu@latest', 'resources': {'instance_count': 1, 'shm_size': '2g'}, 'queue_settings': None, 'swept': False})"
      ]
     },
     "execution_count": 234,
     "metadata": {},
     "output_type": "execute_result"
    }
   ],
   "source": [
    "train_job = ml_client.jobs.create_or_update(train_data)\n",
    "train_job"
   ]
  },
  {
   "cell_type": "code",
   "execution_count": 235,
   "id": "6fc48af6",
   "metadata": {},
   "outputs": [],
   "source": [
    "import os\n",
    "\n",
    "train_src_dir = \"./src/evaluate\"\n",
    "os.makedirs(train_src_dir, exist_ok=True)"
   ]
  },
  {
   "cell_type": "code",
   "execution_count": 236,
   "id": "3e0b7b49",
   "metadata": {},
   "outputs": [
    {
     "name": "stdout",
     "output_type": "stream",
     "text": [
      "Overwriting ./src/evaluate/evaluate.py\n"
     ]
    }
   ],
   "source": [
    "%%writefile {train_src_dir}/evaluate.py\n",
    "import argparse\n",
    "from pathlib import Path\n",
    "\n",
    "import numpy as np\n",
    "import pandas as pd\n",
    "from matplotlib import pyplot as plt\n",
    "\n",
    "from sklearn.metrics import r2_score, mean_absolute_error, mean_squared_error\n",
    "import os\n",
    "import mlflow\n",
    "import mlflow.sklearn\n",
    "import mlflow.pyfunc\n",
    "from mlflow.tracking import MlflowClient\n",
    "\n",
    "\n",
    "def select_first_file(path):\n",
    "    \"\"\"Selects first file in folder, use under assumption there is only one file in folder\n",
    "    Args:\n",
    "        path (str): path to directory or file to choose\n",
    "    Returns:\n",
    "        str: full path of selected file\n",
    "    \"\"\"\n",
    "    files = os.listdir(path)\n",
    "    return os.path.join(path, files[0])\n",
    "\n",
    "\n",
    "\n",
    "TARGET_COL = \"cost\"\n",
    "\n",
    "NUMERIC_COLS = [\n",
    "    \"distance\", \"dropoff_latitude\", \"dropoff_longitude\", \"passengers\", \"pickup_latitude\",\n",
    "    \"pickup_longitude\", \"pickup_weekday\", \"pickup_month\", \"pickup_monthday\", \"pickup_hour\",\n",
    "    \"pickup_minute\", \"pickup_second\", \"dropoff_weekday\", \"dropoff_month\", \"dropoff_monthday\",\n",
    "    \"dropoff_hour\", \"dropoff_minute\", \"dropoff_second\"\n",
    "]\n",
    "\n",
    "CAT_NOM_COLS = [\n",
    "    \"store_forward\", \"vendor\"\n",
    "]\n",
    "\n",
    "CAT_ORD_COLS = [\n",
    "]\n",
    "# Start Logging\n",
    "##### mlflow.start_run()\n",
    "\n",
    "# enable autologging\n",
    "mlflow.sklearn.autolog()\n",
    "\n",
    "os.makedirs(\"./outputs\", exist_ok=True)\n",
    "\n",
    "def parse_args():\n",
    "    '''Parse input arguments'''\n",
    "\n",
    "    parser = argparse.ArgumentParser(\"predict\")\n",
    "    parser.add_argument(\"--model_name\", type=str, help=\"Name of registered model\")\n",
    "    parser.add_argument(\"--model_input\", type=str, help=\"Path of input model\")\n",
    "    parser.add_argument(\"--test_data\", type=str, help=\"Path to test dataset\")\n",
    "    parser.add_argument(\"--evaluation_output\", type=str, help=\"Path of eval results\")\n",
    "\n",
    "    args = parser.parse_args()\n",
    "\n",
    "    return args\n",
    "\n",
    "def main(args):\n",
    "    '''Read trained model and test dataset, evaluate model and save result'''\n",
    "\n",
    "    # Load the test data\n",
    "    test_data = pd.read_csv(select_first_file(args.test_data))\n",
    "\n",
    "    # Split the data into inputs and outputs\n",
    "    y_test = test_data[TARGET_COL]\n",
    "    X_test = test_data[NUMERIC_COLS + CAT_NOM_COLS + CAT_ORD_COLS]\n",
    "\n",
    "    # Load the model from input port\n",
    "    model =  mlflow.sklearn.load_model(args.model_input) \n",
    "\n",
    "    # ---------------- Model Evaluation ---------------- #\n",
    "    yhat_test, score = model_evaluation(X_test, y_test, model, args.evaluation_output)\n",
    "\n",
    "    # ----------------- Model Promotion ---------------- #\n",
    "    predictions, deploy_flag = model_promotion(args.model_name, args.evaluation_output, X_test, y_test, yhat_test, score)\n",
    "\n",
    "\n",
    "\n",
    "def model_evaluation(X_test, y_test, model, evaluation_output):\n",
    "\n",
    "    # Get predictions to y_test (y_test)\n",
    "    yhat_test = model.predict(X_test)\n",
    "\n",
    "    # Save the output data with feature columns, predicted cost, and actual cost in csv file\n",
    "    output_data = X_test.copy()\n",
    "    output_data[\"real_label\"] = y_test\n",
    "    output_data[\"predicted_label\"] = yhat_test\n",
    "    output_data.to_csv((Path(evaluation_output) / \"predictions.csv\"))\n",
    "\n",
    "    # Evaluate Model performance with the test set\n",
    "    r2 = r2_score(y_test, yhat_test)\n",
    "    mse = mean_squared_error(y_test, yhat_test)\n",
    "    rmse = np.sqrt(mse)\n",
    "    mae = mean_absolute_error(y_test, yhat_test)\n",
    "\n",
    "    # Print score report to a text file\n",
    "    (Path(evaluation_output) / \"score.txt\").write_text(\n",
    "        f\"Scored with the following model:\\n{format(model)}\"\n",
    "    )\n",
    "    with open((Path(evaluation_output) / \"score.txt\"), \"a\") as outfile:\n",
    "        outfile.write(\"Mean squared error: {mse.2f} \\n\")\n",
    "        outfile.write(\"Root mean squared error: {rmse.2f} \\n\")\n",
    "        outfile.write(\"Mean absolute error: {mae.2f} \\n\")\n",
    "        outfile.write(\"Coefficient of determination: {r2.2f} \\n\")\n",
    "\n",
    "    mlflow.log_metric(\"test r2\", r2)\n",
    "    mlflow.log_metric(\"test mse\", mse)\n",
    "    mlflow.log_metric(\"test rmse\", rmse)\n",
    "    mlflow.log_metric(\"test mae\", mae)\n",
    "\n",
    "    # Visualize results\n",
    "    plt.scatter(y_test, yhat_test,  color='black')\n",
    "    plt.plot(y_test, y_test, color='blue', linewidth=3)\n",
    "    plt.xlabel(\"Real value\")\n",
    "    plt.ylabel(\"Predicted value\")\n",
    "    plt.title(\"Comparing Model Predictions to Real values - Test Data\")\n",
    "    plt.savefig(\"predictions.png\")\n",
    "    mlflow.log_artifact(\"predictions.png\")\n",
    "\n",
    "    return yhat_test, r2\n",
    "\n",
    "def model_promotion(model_name, evaluation_output, X_test, y_test, yhat_test, score):\n",
    "    \n",
    "    scores = {}\n",
    "    predictions = {}\n",
    "\n",
    "    client = MlflowClient()\n",
    "\n",
    "    for model_run in client.search_model_versions(f\"name='{model_name}'\"):\n",
    "        model_version = model_run.version\n",
    "        mdl = mlflow.pyfunc.load_model(\n",
    "            model_uri=f\"models:/{model_name}/{model_version}\")\n",
    "        predictions[f\"{model_name}:{model_version}\"] = mdl.predict(X_test)\n",
    "        scores[f\"{model_name}:{model_version}\"] = r2_score(\n",
    "            y_test, predictions[f\"{model_name}:{model_version}\"])\n",
    "\n",
    "    if scores:\n",
    "        if score >= max(list(scores.values())):\n",
    "            deploy_flag = 1\n",
    "        else:\n",
    "            deploy_flag = 0\n",
    "    else:\n",
    "        deploy_flag = 1\n",
    "    print(f\"Deploy flag: {deploy_flag}\")\n",
    "\n",
    "    with open((Path(evaluation_output) / \"deploy_flag\"), 'w') as outfile:\n",
    "        outfile.write(f\"{int(deploy_flag)}\")\n",
    "\n",
    "    # add current model score and predictions\n",
    "    scores[\"current model\"] = score\n",
    "    predictions[\"currrent model\"] = yhat_test\n",
    "\n",
    "    perf_comparison_plot = pd.DataFrame(\n",
    "        scores, index=[\"r2 score\"]).plot(kind='bar', figsize=(15, 10))\n",
    "    perf_comparison_plot.figure.savefig(\"perf_comparison.png\")\n",
    "    perf_comparison_plot.figure.savefig(Path(evaluation_output) / \"perf_comparison.png\")\n",
    "\n",
    "    mlflow.log_metric(\"deploy flag\", bool(deploy_flag))\n",
    "    mlflow.log_artifact(\"perf_comparison.png\")\n",
    "\n",
    "    return predictions, deploy_flag\n",
    "\n",
    "if __name__ == \"__main__\":\n",
    "\n",
    "    mlflow.start_run()\n",
    "\n",
    "    args = parse_args()\n",
    "\n",
    "    lines = [\n",
    "        f\"Model name: {args.model_name}\",\n",
    "        f\"Model path: {args.model_input}\",\n",
    "        f\"Test data path: {args.test_data}\",\n",
    "        f\"Evaluation output path: {args.evaluation_output}\",\n",
    "    ]\n",
    "\n",
    "    for line in lines:\n",
    "        print(line)\n",
    "    \n",
    "    main(args)\n",
    "\n",
    "    mlflow.end_run()"
   ]
  },
  {
   "cell_type": "code",
   "execution_count": 237,
   "id": "33479969",
   "metadata": {},
   "outputs": [],
   "source": [
    "from azure.ai.ml import command\n",
    "from azure.ai.ml import Input, Output\n",
    "\n",
    "evaluate_model = command(\n",
    "    inputs={\n",
    "        \"model_input\":Input(\n",
    "            type=\"uri_file\",\n",
    "            path=\"azureml://subscriptions/a8b0cced-98ab-4669-bf6a-a77f4c102009/resourcegroups/MLops_resource/workspaces/MLops_workspaces/datastores/workspaceblobstore/paths/LocalUpload/9292ec840b5d1db6306dba71da69ab7f/model_folder/trained_model\",\n",
    "            #mode=\"rw_mount\",\n",
    "        ),\n",
    "        \"test_data\":Input(type=\"uri_folder\",\n",
    "                         path=\"azureml://subscriptions/a8b0cced-98ab-4669-bf6a-a77f4c102009/resourcegroups/MLops_resource/workspaces/MLops_workspaces/datastores/workspaceblobstore/paths/LocalUpload/9292ec840b5d1db6306dba71da69ab7f/test_data/\"),\n",
    "        \"model_name\": \"RFregressor\",\n",
    "    },\n",
    "    outputs={\n",
    "        \"evaluation_output\":Output(type=\"uri_folder\",\n",
    "                          path='azureml://subscriptions/a8b0cced-98ab-4669-bf6a-a77f4c102009/resourcegroups/MLops_resource/workspaces/MLops_workspaces/datastores/workspaceblobstore/paths/LocalUpload/9292ec840b5d1db6306dba71da69ab7f/eval_outputs',)\n",
    "                          },\n",
    "    code=\"./src/evaluate/\",  # location of source code\n",
    "    command=\"python evaluate.py --model_name ${{inputs.model_name}} --model_input ${{inputs.model_input}} --test_data ${{inputs.test_data}} --evaluation_output ${{outputs.evaluation_output}}\", \n",
    "    environment=\"AzureML-sklearn-0.24-ubuntu18.04-py37-cpu@latest\",\n",
    "    compute=\"cpu-cluster\", # delete this line to use serverless compute\n",
    "    display_name=\"evalute_autolog\",\n",
    "    experiment_name=\"evaluation\",\n",
    ")"
   ]
  },
  {
   "cell_type": "code",
   "execution_count": 238,
   "id": "cc0b2035",
   "metadata": {},
   "outputs": [
    {
     "name": "stderr",
     "output_type": "stream",
     "text": [
      "Uploading evaluate (0.01 MBs): 100%|███████████| 5894/5894 [00:00<00:00, 230305.55it/s]\n",
      "\n",
      "\n"
     ]
    },
    {
     "data": {
      "text/html": [
       "<table style=\"width:100%\"><tr><th>Experiment</th><th>Name</th><th>Type</th><th>Status</th><th>Details Page</th></tr><tr><td>evaluation</td><td>nifty_reggae_6xm7466zvk</td><td>command</td><td>Starting</td><td><a href=\"https://ml.azure.com/runs/nifty_reggae_6xm7466zvk?wsid=/subscriptions/a8b0cced-98ab-4669-bf6a-a77f4c102009/resourcegroups/MLops_resource/workspaces/MLops_workspaces&amp;tid=79fa5f3d-6f5b-4abe-a5bc-25abcb328320\" target=\"_blank\" rel=\"noopener\">Link to Azure Machine Learning studio</a></td></tr></table>"
      ],
      "text/plain": [
       "Command({'parameters': {}, 'init': False, 'name': 'nifty_reggae_6xm7466zvk', 'type': 'command', 'status': 'Starting', 'log_files': None, 'description': None, 'tags': {}, 'properties': {'_azureml.ComputeTargetType': 'amlctrain', 'ContentSnapshotId': '4e061d6f-3197-48f2-944c-4e933010fb94'}, 'print_as_yaml': True, 'id': '/subscriptions/a8b0cced-98ab-4669-bf6a-a77f4c102009/resourceGroups/MLops_resource/providers/Microsoft.MachineLearningServices/workspaces/MLops_workspaces/jobs/nifty_reggae_6xm7466zvk', 'Resource__source_path': None, 'base_path': '/Users/ejenamvictor/Desktop/mlproject/data-science/src/train', 'creation_context': <azure.ai.ml.entities._system_data.SystemData object at 0x7f80f19b61c0>, 'serialize': <msrest.serialization.Serializer object at 0x7f80f9193880>, 'allowed_keys': {}, 'key_restriction': False, 'logger': <Logger attr_dict (WARNING)>, 'display_name': 'evalute_autolog', 'experiment_name': 'evaluation', 'compute': 'cpu-cluster', 'services': {'Tracking': {'endpoint': 'azureml://uksouth.api.azureml.ms/mlflow/v1.0/subscriptions/a8b0cced-98ab-4669-bf6a-a77f4c102009/resourceGroups/MLops_resource/providers/Microsoft.MachineLearningServices/workspaces/MLops_workspaces?', 'type': 'Tracking'}, 'Studio': {'endpoint': 'https://ml.azure.com/runs/nifty_reggae_6xm7466zvk?wsid=/subscriptions/a8b0cced-98ab-4669-bf6a-a77f4c102009/resourcegroups/MLops_resource/workspaces/MLops_workspaces&tid=79fa5f3d-6f5b-4abe-a5bc-25abcb328320', 'type': 'Studio'}}, 'comment': None, 'job_inputs': {'model_input': {'type': 'uri_file', 'path': 'azureml://subscriptions/a8b0cced-98ab-4669-bf6a-a77f4c102009/resourcegroups/MLops_resource/workspaces/MLops_workspaces/datastores/workspaceblobstore/paths/LocalUpload/9292ec840b5d1db6306dba71da69ab7f/model_folder/trained_model', 'mode': 'ro_mount'}, 'test_data': {'type': 'uri_folder', 'path': 'azureml://subscriptions/a8b0cced-98ab-4669-bf6a-a77f4c102009/resourcegroups/MLops_resource/workspaces/MLops_workspaces/datastores/workspaceblobstore/paths/LocalUpload/9292ec840b5d1db6306dba71da69ab7f/test_data/', 'mode': 'ro_mount'}, 'model_name': 'RFregressor'}, 'job_outputs': {'evaluation_output': {'type': 'uri_folder', 'path': 'azureml://subscriptions/a8b0cced-98ab-4669-bf6a-a77f4c102009/resourcegroups/MLops_resource/workspaces/MLops_workspaces/datastores/workspaceblobstore/paths/LocalUpload/9292ec840b5d1db6306dba71da69ab7f/eval_outputs', 'mode': 'rw_mount'}, 'default': {'type': 'uri_folder', 'path': 'azureml://datastores/workspaceartifactstore/ExperimentRun/dcid.nifty_reggae_6xm7466zvk', 'mode': 'rw_mount'}}, 'inputs': {'model_input': <azure.ai.ml.entities._job.pipeline._io.base.NodeInput object at 0x7f80f9193670>, 'test_data': <azure.ai.ml.entities._job.pipeline._io.base.NodeInput object at 0x7f80f9193460>, 'model_name': <azure.ai.ml.entities._job.pipeline._io.base.NodeInput object at 0x7f80f91930d0>}, 'outputs': {'evaluation_output': <azure.ai.ml.entities._job.pipeline._io.base.NodeOutput object at 0x7f80f9193a00>, 'default': <azure.ai.ml.entities._job.pipeline._io.base.NodeOutput object at 0x7f80f91938b0>}, 'component': CommandComponent({'intellectual_property': None, 'auto_increment_version': True, 'source': 'REMOTE.WORKSPACE.JOB', 'is_anonymous': False, 'auto_delete_setting': None, 'name': 'nifty_reggae_6xm7466zvk', 'description': None, 'tags': {}, 'properties': {}, 'print_as_yaml': True, 'id': None, 'Resource__source_path': None, 'base_path': '/Users/ejenamvictor/Desktop/mlproject/data-science/src/train', 'creation_context': <azure.ai.ml.entities._system_data.SystemData object at 0x7f80f19b61c0>, 'serialize': <msrest.serialization.Serializer object at 0x7f80f91937f0>, 'command': 'python evaluate.py --model_name ${{inputs.model_name}} --model_input ${{inputs.model_input}} --test_data ${{inputs.test_data}} --evaluation_output ${{outputs.evaluation_output}}', 'code': '/subscriptions/a8b0cced-98ab-4669-bf6a-a77f4c102009/resourceGroups/MLops_resource/providers/Microsoft.MachineLearningServices/workspaces/MLops_workspaces/codes/c22fb1e3-7837-4d61-afbd-473b69769b67/versions/1', 'environment_variables': {}, 'environment': 'azureml:AzureML-sklearn-0.24-ubuntu18.04-py37-cpu@latest', 'distribution': None, 'resources': None, 'queue_settings': None, 'version': None, 'latest_version': None, 'schema': None, 'type': 'command', 'display_name': 'evalute_autolog', 'is_deterministic': True, 'inputs': {'model_input': {'type': 'uri_file', 'path': 'azureml://subscriptions/a8b0cced-98ab-4669-bf6a-a77f4c102009/resourcegroups/MLops_resource/workspaces/MLops_workspaces/datastores/workspaceblobstore/paths/LocalUpload/9292ec840b5d1db6306dba71da69ab7f/model_folder/trained_model', 'mode': 'ro_mount'}, 'test_data': {'type': 'uri_folder', 'path': 'azureml://subscriptions/a8b0cced-98ab-4669-bf6a-a77f4c102009/resourcegroups/MLops_resource/workspaces/MLops_workspaces/datastores/workspaceblobstore/paths/LocalUpload/9292ec840b5d1db6306dba71da69ab7f/test_data/', 'mode': 'ro_mount'}, 'model_name': {'type': 'string', 'default': 'RFregressor'}}, 'outputs': {'evaluation_output': {'type': 'uri_folder', 'path': 'azureml://subscriptions/a8b0cced-98ab-4669-bf6a-a77f4c102009/resourcegroups/MLops_resource/workspaces/MLops_workspaces/datastores/workspaceblobstore/paths/LocalUpload/9292ec840b5d1db6306dba71da69ab7f/eval_outputs', 'mode': 'rw_mount'}, 'default': {'type': 'uri_folder', 'path': 'azureml://datastores/workspaceartifactstore/ExperimentRun/dcid.nifty_reggae_6xm7466zvk', 'mode': 'rw_mount'}}, 'yaml_str': None, 'other_parameter': {'status': 'Starting', 'parameters': {}}, 'additional_includes': []}), 'referenced_control_flow_node_instance_id': None, 'kwargs': {'services': {'Tracking': {'endpoint': 'azureml://uksouth.api.azureml.ms/mlflow/v1.0/subscriptions/a8b0cced-98ab-4669-bf6a-a77f4c102009/resourceGroups/MLops_resource/providers/Microsoft.MachineLearningServices/workspaces/MLops_workspaces?', 'type': 'Tracking'}, 'Studio': {'endpoint': 'https://ml.azure.com/runs/nifty_reggae_6xm7466zvk?wsid=/subscriptions/a8b0cced-98ab-4669-bf6a-a77f4c102009/resourcegroups/MLops_resource/workspaces/MLops_workspaces&tid=79fa5f3d-6f5b-4abe-a5bc-25abcb328320', 'type': 'Studio'}}, 'status': 'Starting', 'creation_context': <azure.ai.ml.entities._system_data.SystemData object at 0x7f80f19b61c0>}, 'instance_id': 'c73d611a-0633-4002-b65b-2503b72db1d9', 'source': 'BUILDER', 'validate_required_input_not_provided': True, 'limits': None, 'identity': None, 'distribution': None, 'environment_variables': {}, 'environment': 'azureml:AzureML-sklearn-0.24-ubuntu18.04-py37-cpu@latest', 'resources': {'instance_count': 1, 'shm_size': '2g'}, 'queue_settings': None, 'swept': False})"
      ]
     },
     "execution_count": 238,
     "metadata": {},
     "output_type": "execute_result"
    }
   ],
   "source": [
    "eval_job = ml_client.jobs.create_or_update(evaluate_model)\n",
    "eval_job"
   ]
  },
  {
   "cell_type": "code",
   "execution_count": 268,
   "id": "20c8423c",
   "metadata": {},
   "outputs": [
    {
     "name": "stdout",
     "output_type": "stream",
     "text": [
      "1\n"
     ]
    }
   ],
   "source": [
    "registered_model_name = \"RFregressor\"\n",
    "\n",
    "# Let's pick the latest version of the model\n",
    "latest_model_version = max(\n",
    "    [int(m.version) for m in ml_client.models.list(name=registered_model_name)]\n",
    ")\n",
    "\n",
    "print(latest_model_version)"
   ]
  },
  {
   "cell_type": "code",
   "execution_count": 269,
   "id": "90641598",
   "metadata": {},
   "outputs": [],
   "source": [
    "import uuid\n",
    "\n",
    "# Create a unique name for the endpoint\n",
    "Taxiprice = \"Taxi-price-endpoint-\" + str(uuid.uuid4())[:8]"
   ]
  },
  {
   "cell_type": "code",
   "execution_count": 270,
   "id": "999f8966",
   "metadata": {},
   "outputs": [
    {
     "name": "stdout",
     "output_type": "stream",
     "text": [
      "Endpoint taxi-price-endpoint-cb0afcfb provisioning state: Succeeded\n"
     ]
    }
   ],
   "source": [
    "# Expect the endpoint creation to take a few minutes\n",
    "from azure.ai.ml.entities import (\n",
    "    ManagedOnlineEndpoint,\n",
    "    ManagedOnlineDeployment,\n",
    "    Model,\n",
    "    Environment,\n",
    ")\n",
    "\n",
    "# create an online endpoint\n",
    "endpoint = ManagedOnlineEndpoint(\n",
    "    name=Taxiprice,\n",
    "    description=\"this is an online endpoint\",\n",
    "    auth_mode=\"key\",\n",
    "    tags={\n",
    "        \"training_dataset\": \"credit_defaults\",\n",
    "        \"model_type\": \"sklearn.RandomForestRegressor\",\n",
    "    },\n",
    ")\n",
    "\n",
    "endpoint = ml_client.online_endpoints.begin_create_or_update(endpoint).result()\n",
    "\n",
    "print(f\"Endpoint {endpoint.name} provisioning state: {endpoint.provisioning_state}\")"
   ]
  },
  {
   "cell_type": "code",
   "execution_count": 272,
   "id": "71112e16",
   "metadata": {},
   "outputs": [
    {
     "name": "stdout",
     "output_type": "stream",
     "text": [
      "Endpoint \"taxi-price-endpoint-cb0afcfb\" with provisioning state \"Succeeded\" is retrieved\n"
     ]
    }
   ],
   "source": [
    "endpoint = ml_client.online_endpoints.get(name=Taxiprice)\n",
    "\n",
    "print(\n",
    "    f'Endpoint \"{endpoint.name}\" with provisioning state \"{endpoint.provisioning_state}\" is retrieved'\n",
    ")"
   ]
  },
  {
   "cell_type": "code",
   "execution_count": 274,
   "id": "55c866ca",
   "metadata": {},
   "outputs": [
    {
     "name": "stdout",
     "output_type": "stream",
     "text": [
      "Latest model is version \"1\" \n"
     ]
    }
   ],
   "source": [
    "# Let's pick the latest version of the model\n",
    "latest_model_version = max(\n",
    "    [int(m.version) for m in ml_client.models.list(name=\"RFregressor\")]\n",
    ")\n",
    "print(f'Latest model is version \"{latest_model_version}\" ')"
   ]
  },
  {
   "cell_type": "code",
   "execution_count": 275,
   "id": "465a66a0",
   "metadata": {},
   "outputs": [
    {
     "name": "stderr",
     "output_type": "stream",
     "text": [
      "Check: endpoint Taxi-price-endpoint-cb0afcfb exists\n"
     ]
    },
    {
     "ename": "HttpResponseError",
     "evalue": "(BadRequest) The request is invalid.\nCode: BadRequest\nMessage: The request is invalid.\nException Details:\t(InferencingClientCreateDeploymentFailed) InferencingClient HttpRequest error, error detail: {\"errors\":{\"VmSize\":[\"Not enough quota available for Standard_DS3_v2 in SubscriptionId a8b0cced-98ab-4669-bf6a-a77f4c102009. Current usage/limit: 0/6. Additional needed: 8 Please see troubleshooting guide, available here: https://aka.ms/oe-tsg#error-outofquota\"]},\"type\":\"https://tools.ietf.org/html/rfc7231#section-6.5.1\",\"title\":\"One or more validation errors occurred.\",\"status\":400,\"traceId\":\"00-0c1195d508bac3e04b7abe7a03aff941-56f82de68903b5e2-01\"}\n\tCode: InferencingClientCreateDeploymentFailed\n\tMessage: InferencingClient HttpRequest error, error detail: {\"errors\":{\"VmSize\":[\"Not enough quota available for Standard_DS3_v2 in SubscriptionId a8b0cced-98ab-4669-bf6a-a77f4c102009. Current usage/limit: 0/6. Additional needed: 8 Please see troubleshooting guide, available here: https://aka.ms/oe-tsg#error-outofquota\"]},\"type\":\"https://tools.ietf.org/html/rfc7231#section-6.5.1\",\"title\":\"One or more validation errors occurred.\",\"status\":400,\"traceId\":\"00-0c1195d508bac3e04b7abe7a03aff941-56f82de68903b5e2-01\"}\nAdditional Information:Type: ComponentName\nInfo: {\n    \"value\": \"managementfrontend\"\n}Type: Correlation\nInfo: {\n    \"value\": {\n        \"operation\": \"0c1195d508bac3e04b7abe7a03aff941\",\n        \"request\": \"1fa99b81cf461b57\"\n    }\n}Type: Environment\nInfo: {\n    \"value\": \"uksouth\"\n}Type: Location\nInfo: {\n    \"value\": \"uksouth\"\n}Type: Time\nInfo: {\n    \"value\": \"2023-08-22T19:06:20.5531737+00:00\"\n}",
     "output_type": "error",
     "traceback": [
      "\u001b[0;31m---------------------------------------------------------------------------\u001b[0m",
      "\u001b[0;31mHttpResponseError\u001b[0m                         Traceback (most recent call last)",
      "\u001b[0;32m/var/folders/73/y7kf04rj02xbdjnpf7k716yw0000gn/T/ipykernel_82295/507866829.py\u001b[0m in \u001b[0;36m<module>\u001b[0;34m\u001b[0m\n\u001b[1;32m     15\u001b[0m )\n\u001b[1;32m     16\u001b[0m \u001b[0;34m\u001b[0m\u001b[0m\n\u001b[0;32m---> 17\u001b[0;31m \u001b[0mblue_deployment\u001b[0m \u001b[0;34m=\u001b[0m \u001b[0mml_client\u001b[0m\u001b[0;34m.\u001b[0m\u001b[0mbegin_create_or_update\u001b[0m\u001b[0;34m(\u001b[0m\u001b[0mblue_deployment\u001b[0m\u001b[0;34m)\u001b[0m\u001b[0;34m.\u001b[0m\u001b[0mresult\u001b[0m\u001b[0;34m(\u001b[0m\u001b[0;34m)\u001b[0m\u001b[0;34m\u001b[0m\u001b[0;34m\u001b[0m\u001b[0m\n\u001b[0m",
      "\u001b[0;32m~/opt/anaconda3/lib/python3.9/site-packages/azure/ai/ml/_ml_client.py\u001b[0m in \u001b[0;36mbegin_create_or_update\u001b[0;34m(self, entity, **kwargs)\u001b[0m\n\u001b[1;32m    936\u001b[0m         \"\"\"\n\u001b[1;32m    937\u001b[0m \u001b[0;34m\u001b[0m\u001b[0m\n\u001b[0;32m--> 938\u001b[0;31m         \u001b[0;32mreturn\u001b[0m \u001b[0m_begin_create_or_update\u001b[0m\u001b[0;34m(\u001b[0m\u001b[0mentity\u001b[0m\u001b[0;34m,\u001b[0m \u001b[0mself\u001b[0m\u001b[0;34m.\u001b[0m\u001b[0m_operation_container\u001b[0m\u001b[0;34m.\u001b[0m\u001b[0mall_operations\u001b[0m\u001b[0;34m,\u001b[0m \u001b[0;34m**\u001b[0m\u001b[0mkwargs\u001b[0m\u001b[0;34m)\u001b[0m\u001b[0;34m\u001b[0m\u001b[0;34m\u001b[0m\u001b[0m\n\u001b[0m\u001b[1;32m    939\u001b[0m \u001b[0;34m\u001b[0m\u001b[0m\n\u001b[1;32m    940\u001b[0m     \u001b[0;32mdef\u001b[0m \u001b[0m__repr__\u001b[0m\u001b[0;34m(\u001b[0m\u001b[0mself\u001b[0m\u001b[0;34m)\u001b[0m \u001b[0;34m->\u001b[0m \u001b[0mstr\u001b[0m\u001b[0;34m:\u001b[0m\u001b[0;34m\u001b[0m\u001b[0;34m\u001b[0m\u001b[0m\n",
      "\u001b[0;32m~/opt/anaconda3/lib/python3.9/functools.py\u001b[0m in \u001b[0;36mwrapper\u001b[0;34m(*args, **kw)\u001b[0m\n\u001b[1;32m    875\u001b[0m                             '1 positional argument')\n\u001b[1;32m    876\u001b[0m \u001b[0;34m\u001b[0m\u001b[0m\n\u001b[0;32m--> 877\u001b[0;31m         \u001b[0;32mreturn\u001b[0m \u001b[0mdispatch\u001b[0m\u001b[0;34m(\u001b[0m\u001b[0margs\u001b[0m\u001b[0;34m[\u001b[0m\u001b[0;36m0\u001b[0m\u001b[0;34m]\u001b[0m\u001b[0;34m.\u001b[0m\u001b[0m__class__\u001b[0m\u001b[0;34m)\u001b[0m\u001b[0;34m(\u001b[0m\u001b[0;34m*\u001b[0m\u001b[0margs\u001b[0m\u001b[0;34m,\u001b[0m \u001b[0;34m**\u001b[0m\u001b[0mkw\u001b[0m\u001b[0;34m)\u001b[0m\u001b[0;34m\u001b[0m\u001b[0;34m\u001b[0m\u001b[0m\n\u001b[0m\u001b[1;32m    878\u001b[0m \u001b[0;34m\u001b[0m\u001b[0m\n\u001b[1;32m    879\u001b[0m     \u001b[0mfuncname\u001b[0m \u001b[0;34m=\u001b[0m \u001b[0mgetattr\u001b[0m\u001b[0;34m(\u001b[0m\u001b[0mfunc\u001b[0m\u001b[0;34m,\u001b[0m \u001b[0;34m'__name__'\u001b[0m\u001b[0;34m,\u001b[0m \u001b[0;34m'singledispatch function'\u001b[0m\u001b[0;34m)\u001b[0m\u001b[0;34m\u001b[0m\u001b[0;34m\u001b[0m\u001b[0m\n",
      "\u001b[0;32m~/opt/anaconda3/lib/python3.9/site-packages/azure/ai/ml/_ml_client.py\u001b[0m in \u001b[0;36m_\u001b[0;34m(entity, operations, *args, **kwargs)\u001b[0m\n\u001b[1;32m   1036\u001b[0m \u001b[0;32mdef\u001b[0m \u001b[0m_\u001b[0m\u001b[0;34m(\u001b[0m\u001b[0mentity\u001b[0m\u001b[0;34m:\u001b[0m \u001b[0mOnlineDeployment\u001b[0m\u001b[0;34m,\u001b[0m \u001b[0moperations\u001b[0m\u001b[0;34m,\u001b[0m \u001b[0;34m*\u001b[0m\u001b[0margs\u001b[0m\u001b[0;34m,\u001b[0m \u001b[0;34m**\u001b[0m\u001b[0mkwargs\u001b[0m\u001b[0;34m)\u001b[0m\u001b[0;34m:\u001b[0m\u001b[0;34m\u001b[0m\u001b[0;34m\u001b[0m\u001b[0m\n\u001b[1;32m   1037\u001b[0m     \u001b[0mmodule_logger\u001b[0m\u001b[0;34m.\u001b[0m\u001b[0mdebug\u001b[0m\u001b[0;34m(\u001b[0m\u001b[0;34m\"Creating or updating online_deployments\"\u001b[0m\u001b[0;34m)\u001b[0m\u001b[0;34m\u001b[0m\u001b[0;34m\u001b[0m\u001b[0m\n\u001b[0;32m-> 1038\u001b[0;31m     \u001b[0;32mreturn\u001b[0m \u001b[0moperations\u001b[0m\u001b[0;34m[\u001b[0m\u001b[0mAzureMLResourceType\u001b[0m\u001b[0;34m.\u001b[0m\u001b[0mONLINE_DEPLOYMENT\u001b[0m\u001b[0;34m]\u001b[0m\u001b[0;34m.\u001b[0m\u001b[0mbegin_create_or_update\u001b[0m\u001b[0;34m(\u001b[0m\u001b[0mentity\u001b[0m\u001b[0;34m,\u001b[0m \u001b[0;34m**\u001b[0m\u001b[0mkwargs\u001b[0m\u001b[0;34m)\u001b[0m\u001b[0;34m\u001b[0m\u001b[0;34m\u001b[0m\u001b[0m\n\u001b[0m\u001b[1;32m   1039\u001b[0m \u001b[0;34m\u001b[0m\u001b[0m\n\u001b[1;32m   1040\u001b[0m \u001b[0;34m\u001b[0m\u001b[0m\n",
      "\u001b[0;32m~/opt/anaconda3/lib/python3.9/site-packages/azure/core/tracing/decorator.py\u001b[0m in \u001b[0;36mwrapper_use_tracer\u001b[0;34m(*args, **kwargs)\u001b[0m\n\u001b[1;32m     76\u001b[0m             \u001b[0mspan_impl_type\u001b[0m \u001b[0;34m=\u001b[0m \u001b[0msettings\u001b[0m\u001b[0;34m.\u001b[0m\u001b[0mtracing_implementation\u001b[0m\u001b[0;34m(\u001b[0m\u001b[0;34m)\u001b[0m\u001b[0;34m\u001b[0m\u001b[0;34m\u001b[0m\u001b[0m\n\u001b[1;32m     77\u001b[0m             \u001b[0;32mif\u001b[0m \u001b[0mspan_impl_type\u001b[0m \u001b[0;32mis\u001b[0m \u001b[0;32mNone\u001b[0m\u001b[0;34m:\u001b[0m\u001b[0;34m\u001b[0m\u001b[0;34m\u001b[0m\u001b[0m\n\u001b[0;32m---> 78\u001b[0;31m                 \u001b[0;32mreturn\u001b[0m \u001b[0mfunc\u001b[0m\u001b[0;34m(\u001b[0m\u001b[0;34m*\u001b[0m\u001b[0margs\u001b[0m\u001b[0;34m,\u001b[0m \u001b[0;34m**\u001b[0m\u001b[0mkwargs\u001b[0m\u001b[0;34m)\u001b[0m\u001b[0;34m\u001b[0m\u001b[0;34m\u001b[0m\u001b[0m\n\u001b[0m\u001b[1;32m     79\u001b[0m \u001b[0;34m\u001b[0m\u001b[0m\n\u001b[1;32m     80\u001b[0m             \u001b[0;31m# Merge span is parameter is set, but only if no explicit parent are passed\u001b[0m\u001b[0;34m\u001b[0m\u001b[0;34m\u001b[0m\u001b[0m\n",
      "\u001b[0;32m~/opt/anaconda3/lib/python3.9/site-packages/azure/ai/ml/_telemetry/activity.py\u001b[0m in \u001b[0;36mwrapper\u001b[0;34m(*args, **kwargs)\u001b[0m\n\u001b[1;32m    261\u001b[0m         \u001b[0;32mdef\u001b[0m \u001b[0mwrapper\u001b[0m\u001b[0;34m(\u001b[0m\u001b[0;34m*\u001b[0m\u001b[0margs\u001b[0m\u001b[0;34m,\u001b[0m \u001b[0;34m**\u001b[0m\u001b[0mkwargs\u001b[0m\u001b[0;34m)\u001b[0m\u001b[0;34m:\u001b[0m\u001b[0;34m\u001b[0m\u001b[0;34m\u001b[0m\u001b[0m\n\u001b[1;32m    262\u001b[0m             \u001b[0;32mwith\u001b[0m \u001b[0mlog_activity\u001b[0m\u001b[0;34m(\u001b[0m\u001b[0mlogger\u001b[0m\u001b[0;34m,\u001b[0m \u001b[0mactivity_name\u001b[0m \u001b[0;32mor\u001b[0m \u001b[0mf\u001b[0m\u001b[0;34m.\u001b[0m\u001b[0m__name__\u001b[0m\u001b[0;34m,\u001b[0m \u001b[0mactivity_type\u001b[0m\u001b[0;34m,\u001b[0m \u001b[0mcustom_dimensions\u001b[0m\u001b[0;34m)\u001b[0m\u001b[0;34m:\u001b[0m\u001b[0;34m\u001b[0m\u001b[0;34m\u001b[0m\u001b[0m\n\u001b[0;32m--> 263\u001b[0;31m                 \u001b[0;32mreturn\u001b[0m \u001b[0mf\u001b[0m\u001b[0;34m(\u001b[0m\u001b[0;34m*\u001b[0m\u001b[0margs\u001b[0m\u001b[0;34m,\u001b[0m \u001b[0;34m**\u001b[0m\u001b[0mkwargs\u001b[0m\u001b[0;34m)\u001b[0m\u001b[0;34m\u001b[0m\u001b[0;34m\u001b[0m\u001b[0m\n\u001b[0m\u001b[1;32m    264\u001b[0m \u001b[0;34m\u001b[0m\u001b[0m\n\u001b[1;32m    265\u001b[0m         \u001b[0;32mreturn\u001b[0m \u001b[0mwrapper\u001b[0m\u001b[0;34m\u001b[0m\u001b[0;34m\u001b[0m\u001b[0m\n",
      "\u001b[0;32m~/opt/anaconda3/lib/python3.9/site-packages/azure/ai/ml/operations/_online_deployment_operations.py\u001b[0m in \u001b[0;36mbegin_create_or_update\u001b[0;34m(self, deployment, local, vscode_debug, skip_script_validation, local_enable_gpu, **kwargs)\u001b[0m\n\u001b[1;32m    213\u001b[0m                 \u001b[0mlog_and_raise_error\u001b[0m\u001b[0;34m(\u001b[0m\u001b[0mex\u001b[0m\u001b[0;34m)\u001b[0m\u001b[0;34m\u001b[0m\u001b[0;34m\u001b[0m\u001b[0m\n\u001b[1;32m    214\u001b[0m             \u001b[0;32melse\u001b[0m\u001b[0;34m:\u001b[0m\u001b[0;34m\u001b[0m\u001b[0;34m\u001b[0m\u001b[0m\n\u001b[0;32m--> 215\u001b[0;31m                 \u001b[0;32mraise\u001b[0m \u001b[0mex\u001b[0m\u001b[0;34m\u001b[0m\u001b[0;34m\u001b[0m\u001b[0m\n\u001b[0m\u001b[1;32m    216\u001b[0m \u001b[0;34m\u001b[0m\u001b[0m\n\u001b[1;32m    217\u001b[0m     \u001b[0;34m@\u001b[0m\u001b[0mdistributed_trace\u001b[0m\u001b[0;34m\u001b[0m\u001b[0;34m\u001b[0m\u001b[0m\n",
      "\u001b[0;32m~/opt/anaconda3/lib/python3.9/site-packages/azure/ai/ml/operations/_online_deployment_operations.py\u001b[0m in \u001b[0;36mbegin_create_or_update\u001b[0;34m(self, deployment, local, vscode_debug, skip_script_validation, local_enable_gpu, **kwargs)\u001b[0m\n\u001b[1;32m    208\u001b[0m                 \u001b[0;32mreturn\u001b[0m \u001b[0mpoller\u001b[0m\u001b[0;34m\u001b[0m\u001b[0;34m\u001b[0m\u001b[0m\n\u001b[1;32m    209\u001b[0m             \u001b[0;32mexcept\u001b[0m \u001b[0mException\u001b[0m \u001b[0;32mas\u001b[0m \u001b[0mex\u001b[0m\u001b[0;34m:\u001b[0m\u001b[0;34m\u001b[0m\u001b[0;34m\u001b[0m\u001b[0m\n\u001b[0;32m--> 210\u001b[0;31m                 \u001b[0;32mraise\u001b[0m \u001b[0mex\u001b[0m\u001b[0;34m\u001b[0m\u001b[0;34m\u001b[0m\u001b[0m\n\u001b[0m\u001b[1;32m    211\u001b[0m         \u001b[0;32mexcept\u001b[0m \u001b[0mException\u001b[0m \u001b[0;32mas\u001b[0m \u001b[0mex\u001b[0m\u001b[0;34m:\u001b[0m  \u001b[0;31m# pylint: disable=broad-except\u001b[0m\u001b[0;34m\u001b[0m\u001b[0;34m\u001b[0m\u001b[0m\n\u001b[1;32m    212\u001b[0m             \u001b[0;32mif\u001b[0m \u001b[0misinstance\u001b[0m\u001b[0;34m(\u001b[0m\u001b[0mex\u001b[0m\u001b[0;34m,\u001b[0m \u001b[0;34m(\u001b[0m\u001b[0mValidationException\u001b[0m\u001b[0;34m,\u001b[0m \u001b[0mSchemaValidationError\u001b[0m\u001b[0;34m)\u001b[0m\u001b[0;34m)\u001b[0m\u001b[0;34m:\u001b[0m\u001b[0;34m\u001b[0m\u001b[0;34m\u001b[0m\u001b[0m\n",
      "\u001b[0;32m~/opt/anaconda3/lib/python3.9/site-packages/azure/ai/ml/operations/_online_deployment_operations.py\u001b[0m in \u001b[0;36mbegin_create_or_update\u001b[0;34m(self, deployment, local, vscode_debug, skip_script_validation, local_enable_gpu, **kwargs)\u001b[0m\n\u001b[1;32m    191\u001b[0m                 \u001b[0mdeployment_rest\u001b[0m \u001b[0;34m=\u001b[0m \u001b[0mdeployment\u001b[0m\u001b[0;34m.\u001b[0m\u001b[0m_to_rest_object\u001b[0m\u001b[0;34m(\u001b[0m\u001b[0mlocation\u001b[0m\u001b[0;34m=\u001b[0m\u001b[0mlocation\u001b[0m\u001b[0;34m)\u001b[0m\u001b[0;34m\u001b[0m\u001b[0;34m\u001b[0m\u001b[0m\n\u001b[1;32m    192\u001b[0m \u001b[0;34m\u001b[0m\u001b[0m\n\u001b[0;32m--> 193\u001b[0;31m                 poller = self._online_deployment.begin_create_or_update(\n\u001b[0m\u001b[1;32m    194\u001b[0m                     \u001b[0mresource_group_name\u001b[0m\u001b[0;34m=\u001b[0m\u001b[0mself\u001b[0m\u001b[0;34m.\u001b[0m\u001b[0m_resource_group_name\u001b[0m\u001b[0;34m,\u001b[0m\u001b[0;34m\u001b[0m\u001b[0;34m\u001b[0m\u001b[0m\n\u001b[1;32m    195\u001b[0m                     \u001b[0mworkspace_name\u001b[0m\u001b[0;34m=\u001b[0m\u001b[0mself\u001b[0m\u001b[0;34m.\u001b[0m\u001b[0m_workspace_name\u001b[0m\u001b[0;34m,\u001b[0m\u001b[0;34m\u001b[0m\u001b[0;34m\u001b[0m\u001b[0m\n",
      "\u001b[0;32m~/opt/anaconda3/lib/python3.9/site-packages/azure/core/tracing/decorator.py\u001b[0m in \u001b[0;36mwrapper_use_tracer\u001b[0;34m(*args, **kwargs)\u001b[0m\n\u001b[1;32m     76\u001b[0m             \u001b[0mspan_impl_type\u001b[0m \u001b[0;34m=\u001b[0m \u001b[0msettings\u001b[0m\u001b[0;34m.\u001b[0m\u001b[0mtracing_implementation\u001b[0m\u001b[0;34m(\u001b[0m\u001b[0;34m)\u001b[0m\u001b[0;34m\u001b[0m\u001b[0;34m\u001b[0m\u001b[0m\n\u001b[1;32m     77\u001b[0m             \u001b[0;32mif\u001b[0m \u001b[0mspan_impl_type\u001b[0m \u001b[0;32mis\u001b[0m \u001b[0;32mNone\u001b[0m\u001b[0;34m:\u001b[0m\u001b[0;34m\u001b[0m\u001b[0;34m\u001b[0m\u001b[0m\n\u001b[0;32m---> 78\u001b[0;31m                 \u001b[0;32mreturn\u001b[0m \u001b[0mfunc\u001b[0m\u001b[0;34m(\u001b[0m\u001b[0;34m*\u001b[0m\u001b[0margs\u001b[0m\u001b[0;34m,\u001b[0m \u001b[0;34m**\u001b[0m\u001b[0mkwargs\u001b[0m\u001b[0;34m)\u001b[0m\u001b[0;34m\u001b[0m\u001b[0;34m\u001b[0m\u001b[0m\n\u001b[0m\u001b[1;32m     79\u001b[0m \u001b[0;34m\u001b[0m\u001b[0m\n\u001b[1;32m     80\u001b[0m             \u001b[0;31m# Merge span is parameter is set, but only if no explicit parent are passed\u001b[0m\u001b[0;34m\u001b[0m\u001b[0;34m\u001b[0m\u001b[0m\n",
      "\u001b[0;32m~/opt/anaconda3/lib/python3.9/site-packages/azure/ai/ml/_restclient/v2023_04_01_preview/operations/_online_deployments_operations.py\u001b[0m in \u001b[0;36mbegin_create_or_update\u001b[0;34m(self, resource_group_name, workspace_name, endpoint_name, deployment_name, body, **kwargs)\u001b[0m\n\u001b[1;32m    931\u001b[0m         \u001b[0mcont_token\u001b[0m \u001b[0;34m=\u001b[0m \u001b[0mkwargs\u001b[0m\u001b[0;34m.\u001b[0m\u001b[0mpop\u001b[0m\u001b[0;34m(\u001b[0m\u001b[0;34m'continuation_token'\u001b[0m\u001b[0;34m,\u001b[0m \u001b[0;32mNone\u001b[0m\u001b[0;34m)\u001b[0m  \u001b[0;31m# type: Optional[str]\u001b[0m\u001b[0;34m\u001b[0m\u001b[0;34m\u001b[0m\u001b[0m\n\u001b[1;32m    932\u001b[0m         \u001b[0;32mif\u001b[0m \u001b[0mcont_token\u001b[0m \u001b[0;32mis\u001b[0m \u001b[0;32mNone\u001b[0m\u001b[0;34m:\u001b[0m\u001b[0;34m\u001b[0m\u001b[0;34m\u001b[0m\u001b[0m\n\u001b[0;32m--> 933\u001b[0;31m             raw_result = self._create_or_update_initial(\n\u001b[0m\u001b[1;32m    934\u001b[0m                 \u001b[0mresource_group_name\u001b[0m\u001b[0;34m=\u001b[0m\u001b[0mresource_group_name\u001b[0m\u001b[0;34m,\u001b[0m\u001b[0;34m\u001b[0m\u001b[0;34m\u001b[0m\u001b[0m\n\u001b[1;32m    935\u001b[0m                 \u001b[0mworkspace_name\u001b[0m\u001b[0;34m=\u001b[0m\u001b[0mworkspace_name\u001b[0m\u001b[0;34m,\u001b[0m\u001b[0;34m\u001b[0m\u001b[0;34m\u001b[0m\u001b[0m\n",
      "\u001b[0;32m~/opt/anaconda3/lib/python3.9/site-packages/azure/ai/ml/_restclient/v2023_04_01_preview/operations/_online_deployments_operations.py\u001b[0m in \u001b[0;36m_create_or_update_initial\u001b[0;34m(self, resource_group_name, workspace_name, endpoint_name, deployment_name, body, **kwargs)\u001b[0m\n\u001b[1;32m    862\u001b[0m         \u001b[0;32mif\u001b[0m \u001b[0mresponse\u001b[0m\u001b[0;34m.\u001b[0m\u001b[0mstatus_code\u001b[0m \u001b[0;32mnot\u001b[0m \u001b[0;32min\u001b[0m \u001b[0;34m[\u001b[0m\u001b[0;36m200\u001b[0m\u001b[0;34m,\u001b[0m \u001b[0;36m201\u001b[0m\u001b[0;34m]\u001b[0m\u001b[0;34m:\u001b[0m\u001b[0;34m\u001b[0m\u001b[0;34m\u001b[0m\u001b[0m\n\u001b[1;32m    863\u001b[0m             \u001b[0mmap_error\u001b[0m\u001b[0;34m(\u001b[0m\u001b[0mstatus_code\u001b[0m\u001b[0;34m=\u001b[0m\u001b[0mresponse\u001b[0m\u001b[0;34m.\u001b[0m\u001b[0mstatus_code\u001b[0m\u001b[0;34m,\u001b[0m \u001b[0mresponse\u001b[0m\u001b[0;34m=\u001b[0m\u001b[0mresponse\u001b[0m\u001b[0;34m,\u001b[0m \u001b[0merror_map\u001b[0m\u001b[0;34m=\u001b[0m\u001b[0merror_map\u001b[0m\u001b[0;34m)\u001b[0m\u001b[0;34m\u001b[0m\u001b[0;34m\u001b[0m\u001b[0m\n\u001b[0;32m--> 864\u001b[0;31m             \u001b[0;32mraise\u001b[0m \u001b[0mHttpResponseError\u001b[0m\u001b[0;34m(\u001b[0m\u001b[0mresponse\u001b[0m\u001b[0;34m=\u001b[0m\u001b[0mresponse\u001b[0m\u001b[0;34m,\u001b[0m \u001b[0merror_format\u001b[0m\u001b[0;34m=\u001b[0m\u001b[0mARMErrorFormat\u001b[0m\u001b[0;34m)\u001b[0m\u001b[0;34m\u001b[0m\u001b[0;34m\u001b[0m\u001b[0m\n\u001b[0m\u001b[1;32m    865\u001b[0m \u001b[0;34m\u001b[0m\u001b[0m\n\u001b[1;32m    866\u001b[0m         \u001b[0mresponse_headers\u001b[0m \u001b[0;34m=\u001b[0m \u001b[0;34m{\u001b[0m\u001b[0;34m}\u001b[0m\u001b[0;34m\u001b[0m\u001b[0;34m\u001b[0m\u001b[0m\n",
      "\u001b[0;31mHttpResponseError\u001b[0m: (BadRequest) The request is invalid.\nCode: BadRequest\nMessage: The request is invalid.\nException Details:\t(InferencingClientCreateDeploymentFailed) InferencingClient HttpRequest error, error detail: {\"errors\":{\"VmSize\":[\"Not enough quota available for Standard_DS3_v2 in SubscriptionId a8b0cced-98ab-4669-bf6a-a77f4c102009. Current usage/limit: 0/6. Additional needed: 8 Please see troubleshooting guide, available here: https://aka.ms/oe-tsg#error-outofquota\"]},\"type\":\"https://tools.ietf.org/html/rfc7231#section-6.5.1\",\"title\":\"One or more validation errors occurred.\",\"status\":400,\"traceId\":\"00-0c1195d508bac3e04b7abe7a03aff941-56f82de68903b5e2-01\"}\n\tCode: InferencingClientCreateDeploymentFailed\n\tMessage: InferencingClient HttpRequest error, error detail: {\"errors\":{\"VmSize\":[\"Not enough quota available for Standard_DS3_v2 in SubscriptionId a8b0cced-98ab-4669-bf6a-a77f4c102009. Current usage/limit: 0/6. Additional needed: 8 Please see troubleshooting guide, available here: https://aka.ms/oe-tsg#error-outofquota\"]},\"type\":\"https://tools.ietf.org/html/rfc7231#section-6.5.1\",\"title\":\"One or more validation errors occurred.\",\"status\":400,\"traceId\":\"00-0c1195d508bac3e04b7abe7a03aff941-56f82de68903b5e2-01\"}\nAdditional Information:Type: ComponentName\nInfo: {\n    \"value\": \"managementfrontend\"\n}Type: Correlation\nInfo: {\n    \"value\": {\n        \"operation\": \"0c1195d508bac3e04b7abe7a03aff941\",\n        \"request\": \"1fa99b81cf461b57\"\n    }\n}Type: Environment\nInfo: {\n    \"value\": \"uksouth\"\n}Type: Location\nInfo: {\n    \"value\": \"uksouth\"\n}Type: Time\nInfo: {\n    \"value\": \"2023-08-22T19:06:20.5531737+00:00\"\n}"
     ]
    }
   ],
   "source": [
    "# picking the model to deploy. Here we use the latest version of our registered model\n",
    "model = ml_client.models.get(name=registered_model_name, version=latest_model_version)\n",
    "\n",
    "# Expect this deployment to take approximately 6 to 8 minutes.\n",
    "# create an online deployment.\n",
    "# if you run into an out of quota error, change the instance_type to a comparable VM that is available.\\\n",
    "# Learn more on https://azure.microsoft.com/en-us/pricing/details/machine-learning/.\n",
    "\n",
    "blue_deployment = ManagedOnlineDeployment(\n",
    "    name=\"blue\",\n",
    "    endpoint_name=Taxiprice,\n",
    "    model=model,\n",
    "    instance_type=\"Standard_DS3_v2\",\n",
    "    instance_count=1,\n",
    ")\n",
    "\n",
    "blue_deployment = ml_client.begin_create_or_update(blue_deployment).result()"
   ]
  },
  {
   "cell_type": "code",
   "execution_count": null,
   "id": "8ef0383c",
   "metadata": {},
   "outputs": [],
   "source": []
  },
  {
   "cell_type": "code",
   "execution_count": 252,
   "id": "ec7e719a",
   "metadata": {},
   "outputs": [
    {
     "name": "stderr",
     "output_type": "stream",
     "text": [
      "Updating local endpoint (taxi-price-endpoint-ba7fe200) .Done (0m 5s)\n"
     ]
    },
    {
     "data": {
      "text/plain": [
       "ManagedOnlineEndpoint({'public_network_access': 'enabled', 'provisioning_state': 'Succeeded', 'scoring_uri': 'https://taxi-price-endpoint-ba7fe200.uksouth.inference.ml.azure.com/score', 'openapi_uri': 'https://taxi-price-endpoint-ba7fe200.uksouth.inference.ml.azure.com/swagger.json', 'name': 'taxi-price-endpoint-ba7fe200', 'description': 'this is an online endpoint for taxi price prediction', 'tags': {'train_data': 'taxi_price'}, 'properties': {'azureml.onlineendpointid': '/subscriptions/a8b0cced-98ab-4669-bf6a-a77f4c102009/resourcegroups/mlops_resource/providers/microsoft.machinelearningservices/workspaces/mlops_workspaces/onlineendpoints/taxi-price-endpoint-ba7fe200', 'AzureAsyncOperationUri': 'https://management.azure.com/subscriptions/a8b0cced-98ab-4669-bf6a-a77f4c102009/providers/Microsoft.MachineLearningServices/locations/uksouth/mfeOperationsStatus/oe:e82f3418-797a-49f9-91f3-a65d4b1009f3:71127d78-29c4-4271-a1d2-18dd6fc6b3d2?api-version=2022-02-01-preview'}, 'print_as_yaml': True, 'id': '/subscriptions/a8b0cced-98ab-4669-bf6a-a77f4c102009/resourceGroups/MLops_resource/providers/Microsoft.MachineLearningServices/workspaces/MLops_workspaces/onlineEndpoints/taxi-price-endpoint-ba7fe200', 'Resource__source_path': None, 'base_path': PosixPath('/Users/ejenamvictor/.azureml/inferencing/taxi-price-endpoint-ba7fe200'), 'creation_context': None, 'serialize': <msrest.serialization.Serializer object at 0x7f80facf17f0>, 'auth_mode': 'key', 'location': 'uksouth', 'identity': <azure.ai.ml.entities._credentials.IdentityConfiguration object at 0x7f80facf11f0>, 'traffic': {}, 'mirror_traffic': {}, 'kind': None})"
      ]
     },
     "execution_count": 252,
     "metadata": {},
     "output_type": "execute_result"
    }
   ],
   "source": [
    "#ml_client.online_endpoints.begin_create_or_update(endpoint, local=True)"
   ]
  },
  {
   "cell_type": "code",
   "execution_count": null,
   "id": "240915a0",
   "metadata": {},
   "outputs": [],
   "source": []
  }
 ],
 "metadata": {
  "kernelspec": {
   "display_name": "Python 3 (ipykernel)",
   "language": "python",
   "name": "python3"
  },
  "language_info": {
   "codemirror_mode": {
    "name": "ipython",
    "version": 3
   },
   "file_extension": ".py",
   "mimetype": "text/x-python",
   "name": "python",
   "nbconvert_exporter": "python",
   "pygments_lexer": "ipython3",
   "version": "3.9.7"
  }
 },
 "nbformat": 4,
 "nbformat_minor": 5
}
